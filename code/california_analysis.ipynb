{
 "cells": [
  {
   "cell_type": "markdown",
   "metadata": {},
   "source": [
    "<img src=\"http://imgur.com/1ZcRyrc.png\" style=\"float: left; margin: 20px; height: 55px\">\n",
    "\n",
    "# Project 1: Standardized Test Analysis"
   ]
  },
  {
   "cell_type": "markdown",
   "metadata": {},
   "source": [
    "--- \n",
    "# Part 1\n",
    "\n",
    "Part 1 requires knowledge of basic Python.\n",
    "\n",
    "---"
   ]
  },
  {
   "cell_type": "markdown",
   "metadata": {},
   "source": [
    "## Problem Statement"
   ]
  },
  {
   "cell_type": "markdown",
   "metadata": {},
   "source": [
    "This project aims to use ACT testing scores for Math and Science from 2019 to analyze California’s current ability to produce college ready STEM graduates in regard to national standing and local output while highlighting a few of the districts that may struggle to produce adequate achievement in Math and Science. \n",
    "\n",
    "The project will answer three questions:\n",
    "Where does California stand in producing college ready STEM graduates? In what regions can we diversify and improve our college ready STEM population and how do we improve those regions?"
   ]
  },
  {
   "cell_type": "markdown",
   "metadata": {},
   "source": [
    "### Contents:\n",
    "- [Background](#Background)\n",
    "- [Data Import & Cleaning](#Data-Import-and-Cleaning)\n",
    "- [Exploratory Data Analysis](#Exploratory-Data-Analysis)\n",
    "- [Data Visualization](#Visualize-the-Data)\n",
    "- [Conclusions and Recommendations](#Conclusions-and-Recommendations)"
   ]
  },
  {
   "cell_type": "markdown",
   "metadata": {},
   "source": [
    "## Background"
   ]
  },
  {
   "cell_type": "markdown",
   "metadata": {},
   "source": [
    "Governor Gavin Newsome and The State Superintendent of Public Instruction Tony Thurmond have emphasized that The State of California needs to improve upon California’s past successes in STEM education. STEM industries that rely on a foundation of talent knowledgable in Science, Technology, English and Math (STEM) are an important part of California's economy and future. Historically, the state has been known as a national and internationl leader in STEM education and industry. It is Governor Newsome’s desire to tighten focus on that strength and to compound the state’s prowess in STEM. \n",
    "\n",
    "Using the ACT test as a benchmark the state would like a report on the state’s current position nationally in producing college ready graduates into STEM programs. Governor Newsome would like additional analysis featuring district profiles that may struggle to achieve high standards of college readiness in STEM. These findings will be presented to the California STEAM Symposium in December, 2020. so that they may be able to relate these findings to Local Education Agencies (LEA’s) for the use of these findings when constructing their Local Control and Accountability Plans. \n",
    "\n",
    "#### Background on the ACT\n",
    "\n",
    "The ACT is a standardized test that is often required for admission into many colleges and universities in the United States. The ACT is particularly friendly for measuring STEM readiness because it offers both a math and science portion of the test. \n",
    "\n",
    "* [ACT](https://www.act.org/content/act/en.html)\n",
    "\n",
    "#### Recent STEM initiatives of Governor Newsom are detailed here:\n",
    "\n",
    "Governor Newsom proposes new investments into math and science teachers\n",
    "* https://www.ppic.org/blog/governor-newsom-proposes-new-investments-in-math-and-science-teachers/\n",
    "Newsom proposes 1 Billion dollars to tackle teacher shortages\n",
    "* https://edsource.org/2020/california-governor-proposes-nearly-1-billion-to-end-teacher-shortage/621952\n",
    "\"The governor’s office will use data on student access to technology and STEM education... to help create the plan with the help of the new computer science coordinator.'\n",
    "* https://edsource.org/2019/state-budget-proposal-would-fund-computer-science-czar-broadband-expansion/612434\n",
    "\n",
    "#### Background on teh STEAM Symposium\n",
    "\n",
    "https://web.cvent.com/event/d4865dc7-c884-458a-b52b-776b799d6ad0/websitePage:c5e8e93a-c9f7-42ea-afa7-09b89fb06b28?RefId=steamcalifornia.org\n",
    "\n",
    "\n",
    "\n"
   ]
  },
  {
   "cell_type": "markdown",
   "metadata": {},
   "source": [
    "**To-Do:** *Fill out this cell (or edit the above cell) with any other background or information that is necessary for your problem statement.*"
   ]
  },
  {
   "cell_type": "markdown",
   "metadata": {},
   "source": [
    "### Choose your Data\n",
    "\n",
    "There are 10 datasets included in the [`data`](./data/) folder for this project. You are required to pick **at least two** of these to complete your analysis. Feel free to use more than two if you would like, or add other relevant datasets you find online.\n",
    "\n",
    "* [`act_2017.csv`](./data/act_2017.csv): 2017 ACT Scores by State\n",
    "* [`act_2018.csv`](./data/act_2018.csv): 2018 ACT Scores by State\n",
    "* [`act_2019.csv`](./data/act_2019.csv): 2019 ACT Scores by State\n",
    "* [`act_2019_ca.csv`](./data/act_2019_ca.csv): 2019 ACT Scores in California by School\n",
    "* [`sat_2017.csv`](./data/sat_2017.csv): 2017 SAT Scores by State\n",
    "* [`sat_2018.csv`](./data/sat_2018.csv): 2018 SAT Scores by State\n",
    "* [`sat_2019.csv`](./data/sat_2019.csv): 2019 SAT Scores by State\n",
    "* [`sat_2019_by_intended_college_major.csv`](./data/sat_2019_by_intended_college_major.csv): 2019 SAT Scores by Intended College Major\n",
    "* [`sat_2019_ca.csv`](./data/sat_2019_ca.csv): 2019 SAT Scores in California by School\n",
    "* [`sat_act_by_college.csv`](./data/sat_act_by_college.csv): Ranges of Accepted ACT & SAT Student Scores by Colleges"
   ]
  },
  {
   "cell_type": "code",
   "execution_count": 1009,
   "metadata": {},
   "outputs": [],
   "source": [
    "#at the moment I am deciding to use the ACT since it's test scores are more broadly broken down into 4 categories. \n",
    "import pandas as pd\n",
    "\n",
    "act_ca_2019 = pd.read_csv('/Users/jamesopacich/Documents/dsi/projects/project_1/data/act_2019_ca.csv')\n",
    "\n",
    "#Initially making copies so I don't mess the data up. \n",
    "\n",
    "act_ca_2019c = act_ca_2019.copy()"
   ]
  },
  {
   "cell_type": "markdown",
   "metadata": {},
   "source": [
    "### Outside Research"
   ]
  },
  {
   "cell_type": "markdown",
   "metadata": {},
   "source": [
    "\"California’s future STEM educator pipeline may be in danger—only 273 students planned to enter math education, and only 96 science education.\"\n",
    "\n",
    "Moreover, \"the future of STEM qualified candidates looks potentially weak as well.\"\n",
    "\n",
    "\"Research indicates only 20% of students had both an expressed and measured interest in a STEM career.\" (their ACT Interest Inventory score pointed to a STEM field).\n",
    "https://www.act.org/content/dam/act/unsecured/documents/STEM/2017/California-State-of-STEM-2017.pdf\n",
    "\n",
    "ACT test takers who are interested in STEM, scored around 50 % higher on college readiness benchmarks than test-takers not interested in STEM. \n",
    "https://www.act.org/content/dam/act/unsecured/documents/National-CCCR-2019.pdf\n",
    "\n",
    "Create Culture and use Family STEM Nights was inspired by:\n",
    "https://www.earlymathca.org/engaging-families-in-early-math-a-f\n"
   ]
  },
  {
   "cell_type": "markdown",
   "metadata": {},
   "source": [
    "### Coding Challenges\n",
    "\n",
    "1. Manually calculate mean:\n",
    "\n",
    "    Write a function that takes in values and returns the mean of the values. Create a list of numbers that you test on your function to check to make sure your function works!\n",
    "    \n",
    "    *Note*: Do not use any mean methods built-in to any Python libraries to do this! This should be done without importing any additional libraries."
   ]
  },
  {
   "cell_type": "code",
   "execution_count": 1010,
   "metadata": {},
   "outputs": [],
   "source": [
    "num_list = [1,2,3,4,5,6,7,8,9,10]"
   ]
  },
  {
   "cell_type": "code",
   "execution_count": 1011,
   "metadata": {},
   "outputs": [],
   "source": [
    "# Code: \n",
    "def mean_fun(lst_of_nums):\n",
    "    return sum(lst_of_nums) / len(lst_of_nums)"
   ]
  },
  {
   "cell_type": "code",
   "execution_count": 1012,
   "metadata": {},
   "outputs": [
    {
     "data": {
      "text/plain": [
       "5.5"
      ]
     },
     "execution_count": 1012,
     "metadata": {},
     "output_type": "execute_result"
    }
   ],
   "source": [
    "mean_fun(num_list)"
   ]
  },
  {
   "cell_type": "markdown",
   "metadata": {},
   "source": [
    "2. Manually calculate standard deviation:\n",
    "\n",
    "    The formula for standard deviation is below:\n",
    "\n",
    "    $$\\sigma = \\sqrt{\\frac{1}{n}\\sum_{i=1}^n(x_i - \\mu)^2}$$\n",
    "\n",
    "    Where $x_i$ represents each value in the dataset, $\\mu$ represents the mean of all values in the dataset and $n$ represents the number of values in the dataset.\n",
    "\n",
    "    Write a function that takes in values and returns the standard deviation of the values using the formula above. Hint: use the function you wrote above to calculate the mean! Use the list of numbers you created above to test on your function.\n",
    "    \n",
    "    *Note*: Do not use any standard deviation methods built-in to any Python libraries to do this! This should be done without importing any additional libraries."
   ]
  },
  {
   "cell_type": "code",
   "execution_count": 1013,
   "metadata": {},
   "outputs": [],
   "source": [
    "def std_dev_fun(nums):\n",
    "    var_list = [(n - mean_fun(nums))**2 for n in nums]\n",
    "    return (sum(var_list) / len(var_list)) ** .5\n",
    "\n",
    "# import mean function and label it mean.\n",
    "# list comprehension to create var_list that subtracts n for n in nums by mean and squares. \n",
    "# return the sum of the list divided by len of string with square root."
   ]
  },
  {
   "cell_type": "code",
   "execution_count": 1014,
   "metadata": {},
   "outputs": [
    {
     "data": {
      "text/plain": [
       "2.8722813232690143"
      ]
     },
     "execution_count": 1014,
     "metadata": {},
     "output_type": "execute_result"
    }
   ],
   "source": [
    "std_dev_fun(num_list)"
   ]
  },
  {
   "cell_type": "markdown",
   "metadata": {},
   "source": [
    "3. Data cleaning function:\n",
    "    \n",
    "    Write a function that takes in a string that is a number and a percent symbol (ex. '50%', '30.5%', etc.) and converts this to a float that is the decimal approximation of the percent. For example, inputting '50%' in your function should return 0.5, '30.5%' should return 0.305, etc. Make sure to test your function to make sure it works!\n",
    "\n",
    "You will use these functions later on in the project!"
   ]
  },
  {
   "cell_type": "code",
   "execution_count": 1015,
   "metadata": {},
   "outputs": [],
   "source": [
    "def float_convert(string_num): \n",
    "    for i in range(len(string_num)): #iterating through the length of the string\n",
    "        if string_num[i] == '%': #identifying % in a string\n",
    "            return float(string_num[:i]) #converting the string to float after indexing out the %\n",
    "        #Note: this works because I inspected the data and know there are no % symbols anywhere but in the last index position of a string. \n",
    "        # i created another function in the code below called convert_float that works to convert numbers to float\n",
    "        # That function only works after I apply a seperate function I created called symbol stripper. "
   ]
  },
  {
   "cell_type": "code",
   "execution_count": 1016,
   "metadata": {},
   "outputs": [
    {
     "data": {
      "text/plain": [
       "50.0"
      ]
     },
     "execution_count": 1016,
     "metadata": {},
     "output_type": "execute_result"
    }
   ],
   "source": [
    "float_convert('50%')"
   ]
  },
  {
   "cell_type": "markdown",
   "metadata": {},
   "source": [
    "--- \n",
    "# Part 2\n",
    "\n",
    "Part 2 requires knowledge of Pandas, EDA, data cleaning, and data visualization.\n",
    "\n",
    "---"
   ]
  },
  {
   "cell_type": "markdown",
   "metadata": {},
   "source": [
    "*All libraries used should be added here*"
   ]
  },
  {
   "cell_type": "code",
   "execution_count": 1017,
   "metadata": {},
   "outputs": [],
   "source": [
    "# Imports:\n",
    "import pandas as pd\n",
    "import numpy as np\n",
    "import matplotlib.pyplot as plt\n",
    "import seaborn as sns\n",
    "\n"
   ]
  },
  {
   "cell_type": "markdown",
   "metadata": {},
   "source": [
    "## Data Import and Cleaning"
   ]
  },
  {
   "cell_type": "markdown",
   "metadata": {},
   "source": [
    "### Data Import & Cleaning\n",
    "\n",
    "Import the datasets that you selected for this project and go through the following steps at a minimum. You are welcome to do further cleaning as you feel necessary:\n",
    "1. Display the data: print the first 5 rows of each dataframe to your Jupyter notebook.\n",
    "2. Check for missing values.\n",
    "3. Check for any obvious issues with the observations (keep in mind the minimum & maximum possible values for each test/subtest).\n",
    "4. Fix any errors you identified in steps 2-3.\n",
    "5. Display the data types of each feature.\n",
    "6. Fix any incorrect data types found in step 5.\n",
    "    - Fix any individual values preventing other columns from being the appropriate type.\n",
    "    - If your dataset has a column of percents (ex. '50%', '30.5%', etc.), use the function you wrote in Part 1 (coding challenges, number 3) to convert this to floats! *Hint*: use `.map()` or `.apply()`.\n",
    "7. Rename Columns.\n",
    "    - Column names should be all lowercase.\n",
    "    - Column names should not contain spaces (underscores will suffice--this allows for using the `df.column_name` method to access columns in addition to `df['column_name']`).\n",
    "    - Column names should be unique and informative.\n",
    "8. Drop unnecessary rows (if needed).\n",
    "9. Merge dataframes that can be merged.\n",
    "10. Perform any additional cleaning that you feel is necessary.\n",
    "11. Save your cleaned and merged dataframes as csv files."
   ]
  },
  {
   "cell_type": "markdown",
   "metadata": {},
   "source": [
    "# 2.1 Display the data: print the header for each dataframe"
   ]
  },
  {
   "cell_type": "code",
   "execution_count": 1018,
   "metadata": {},
   "outputs": [
    {
     "data": {
      "text/html": [
       "<div>\n",
       "<style scoped>\n",
       "    .dataframe tbody tr th:only-of-type {\n",
       "        vertical-align: middle;\n",
       "    }\n",
       "\n",
       "    .dataframe tbody tr th {\n",
       "        vertical-align: top;\n",
       "    }\n",
       "\n",
       "    .dataframe thead th {\n",
       "        text-align: right;\n",
       "    }\n",
       "</style>\n",
       "<table border=\"1\" class=\"dataframe\">\n",
       "  <thead>\n",
       "    <tr style=\"text-align: right;\">\n",
       "      <th></th>\n",
       "      <th>CDS</th>\n",
       "      <th>CCode</th>\n",
       "      <th>CDCode</th>\n",
       "      <th>SCode</th>\n",
       "      <th>RType</th>\n",
       "      <th>SName</th>\n",
       "      <th>DName</th>\n",
       "      <th>CName</th>\n",
       "      <th>Enroll12</th>\n",
       "      <th>NumTstTakr</th>\n",
       "      <th>AvgScrRead</th>\n",
       "      <th>AvgScrEng</th>\n",
       "      <th>AvgScrMath</th>\n",
       "      <th>AvgScrSci</th>\n",
       "      <th>NumGE21</th>\n",
       "      <th>PctGE21</th>\n",
       "      <th>Year</th>\n",
       "      <th>Unnamed: 17</th>\n",
       "    </tr>\n",
       "  </thead>\n",
       "  <tbody>\n",
       "    <tr>\n",
       "      <th>0</th>\n",
       "      <td>3.366993e+13</td>\n",
       "      <td>33.0</td>\n",
       "      <td>3366993.0</td>\n",
       "      <td>129882.0</td>\n",
       "      <td>S</td>\n",
       "      <td>21st Century Learning Institute</td>\n",
       "      <td>Beaumont Unified</td>\n",
       "      <td>Riverside</td>\n",
       "      <td>18.0</td>\n",
       "      <td>0.0</td>\n",
       "      <td>NaN</td>\n",
       "      <td>NaN</td>\n",
       "      <td>NaN</td>\n",
       "      <td>NaN</td>\n",
       "      <td>NaN</td>\n",
       "      <td>NaN</td>\n",
       "      <td>2018-19</td>\n",
       "      <td>NaN</td>\n",
       "    </tr>\n",
       "    <tr>\n",
       "      <th>1</th>\n",
       "      <td>1.964212e+13</td>\n",
       "      <td>19.0</td>\n",
       "      <td>1964212.0</td>\n",
       "      <td>1995596.0</td>\n",
       "      <td>S</td>\n",
       "      <td>ABC Secondary (Alternative)</td>\n",
       "      <td>ABC Unified</td>\n",
       "      <td>Los Angeles</td>\n",
       "      <td>58.0</td>\n",
       "      <td>0.0</td>\n",
       "      <td>NaN</td>\n",
       "      <td>NaN</td>\n",
       "      <td>NaN</td>\n",
       "      <td>NaN</td>\n",
       "      <td>NaN</td>\n",
       "      <td>NaN</td>\n",
       "      <td>2018-19</td>\n",
       "      <td>NaN</td>\n",
       "    </tr>\n",
       "    <tr>\n",
       "      <th>2</th>\n",
       "      <td>1.563776e+13</td>\n",
       "      <td>15.0</td>\n",
       "      <td>1563776.0</td>\n",
       "      <td>1530377.0</td>\n",
       "      <td>S</td>\n",
       "      <td>Abraham Lincoln Alternative</td>\n",
       "      <td>Southern Kern Unified</td>\n",
       "      <td>Kern</td>\n",
       "      <td>18.0</td>\n",
       "      <td>0.0</td>\n",
       "      <td>NaN</td>\n",
       "      <td>NaN</td>\n",
       "      <td>NaN</td>\n",
       "      <td>NaN</td>\n",
       "      <td>NaN</td>\n",
       "      <td>NaN</td>\n",
       "      <td>2018-19</td>\n",
       "      <td>NaN</td>\n",
       "    </tr>\n",
       "    <tr>\n",
       "      <th>3</th>\n",
       "      <td>4.369666e+13</td>\n",
       "      <td>43.0</td>\n",
       "      <td>4369666.0</td>\n",
       "      <td>4333795.0</td>\n",
       "      <td>S</td>\n",
       "      <td>Abraham Lincoln High</td>\n",
       "      <td>San Jose Unified</td>\n",
       "      <td>Santa Clara</td>\n",
       "      <td>463.0</td>\n",
       "      <td>53.0</td>\n",
       "      <td>23</td>\n",
       "      <td>22</td>\n",
       "      <td>22</td>\n",
       "      <td>23</td>\n",
       "      <td>34</td>\n",
       "      <td>64.15</td>\n",
       "      <td>2018-19</td>\n",
       "      <td>NaN</td>\n",
       "    </tr>\n",
       "    <tr>\n",
       "      <th>4</th>\n",
       "      <td>1.964733e+13</td>\n",
       "      <td>19.0</td>\n",
       "      <td>1964733.0</td>\n",
       "      <td>1935121.0</td>\n",
       "      <td>S</td>\n",
       "      <td>Abraham Lincoln Senior High</td>\n",
       "      <td>Los Angeles Unified</td>\n",
       "      <td>Los Angeles</td>\n",
       "      <td>226.0</td>\n",
       "      <td>19.0</td>\n",
       "      <td>21</td>\n",
       "      <td>20</td>\n",
       "      <td>23</td>\n",
       "      <td>22</td>\n",
       "      <td>11</td>\n",
       "      <td>57.89</td>\n",
       "      <td>2018-19</td>\n",
       "      <td>NaN</td>\n",
       "    </tr>\n",
       "  </tbody>\n",
       "</table>\n",
       "</div>"
      ],
      "text/plain": [
       "            CDS  CCode     CDCode      SCode RType  \\\n",
       "0  3.366993e+13   33.0  3366993.0   129882.0     S   \n",
       "1  1.964212e+13   19.0  1964212.0  1995596.0     S   \n",
       "2  1.563776e+13   15.0  1563776.0  1530377.0     S   \n",
       "3  4.369666e+13   43.0  4369666.0  4333795.0     S   \n",
       "4  1.964733e+13   19.0  1964733.0  1935121.0     S   \n",
       "\n",
       "                             SName                  DName        CName  \\\n",
       "0  21st Century Learning Institute       Beaumont Unified    Riverside   \n",
       "1      ABC Secondary (Alternative)            ABC Unified  Los Angeles   \n",
       "2      Abraham Lincoln Alternative  Southern Kern Unified         Kern   \n",
       "3             Abraham Lincoln High       San Jose Unified  Santa Clara   \n",
       "4      Abraham Lincoln Senior High    Los Angeles Unified  Los Angeles   \n",
       "\n",
       "   Enroll12  NumTstTakr AvgScrRead AvgScrEng AvgScrMath AvgScrSci NumGE21  \\\n",
       "0      18.0         0.0        NaN       NaN        NaN       NaN     NaN   \n",
       "1      58.0         0.0        NaN       NaN        NaN       NaN     NaN   \n",
       "2      18.0         0.0        NaN       NaN        NaN       NaN     NaN   \n",
       "3     463.0        53.0         23        22         22        23      34   \n",
       "4     226.0        19.0         21        20         23        22      11   \n",
       "\n",
       "  PctGE21     Year  Unnamed: 17  \n",
       "0     NaN  2018-19          NaN  \n",
       "1     NaN  2018-19          NaN  \n",
       "2     NaN  2018-19          NaN  \n",
       "3   64.15  2018-19          NaN  \n",
       "4   57.89  2018-19          NaN  "
      ]
     },
     "execution_count": 1018,
     "metadata": {},
     "output_type": "execute_result"
    }
   ],
   "source": [
    "act_ca_2019c.head()"
   ]
  },
  {
   "cell_type": "markdown",
   "metadata": {},
   "source": [
    "# 2.2 Check for missing values"
   ]
  },
  {
   "cell_type": "code",
   "execution_count": 1019,
   "metadata": {},
   "outputs": [
    {
     "name": "stdout",
     "output_type": "stream",
     "text": [
      "<class 'pandas.core.frame.DataFrame'>\n",
      "RangeIndex: 2310 entries, 0 to 2309\n",
      "Data columns (total 18 columns):\n",
      " #   Column       Non-Null Count  Dtype  \n",
      "---  ------       --------------  -----  \n",
      " 0   CDS          2309 non-null   float64\n",
      " 1   CCode        2309 non-null   float64\n",
      " 2   CDCode       2309 non-null   float64\n",
      " 3   SCode        1787 non-null   float64\n",
      " 4   RType        2309 non-null   object \n",
      " 5   SName        1729 non-null   object \n",
      " 6   DName        2251 non-null   object \n",
      " 7   CName        2309 non-null   object \n",
      " 8   Enroll12     2309 non-null   float64\n",
      " 9   NumTstTakr   2309 non-null   float64\n",
      " 10  AvgScrRead   1953 non-null   object \n",
      " 11  AvgScrEng    1953 non-null   object \n",
      " 12  AvgScrMath   1953 non-null   object \n",
      " 13  AvgScrSci    1953 non-null   object \n",
      " 14  NumGE21      1953 non-null   object \n",
      " 15  PctGE21      1953 non-null   object \n",
      " 16  Year         2309 non-null   object \n",
      " 17  Unnamed: 17  0 non-null      float64\n",
      "dtypes: float64(7), object(11)\n",
      "memory usage: 325.0+ KB\n"
     ]
    }
   ],
   "source": [
    "#a bunch of null values in the California Dataset. Need to look at what these are and possibly eliminate some rows and columns. \n",
    "act_ca_2019c.info()"
   ]
  },
  {
   "cell_type": "markdown",
   "metadata": {},
   "source": [
    "##### Checking Shape. There are differences between act_2017 and the other two act df's. "
   ]
  },
  {
   "cell_type": "code",
   "execution_count": 1020,
   "metadata": {},
   "outputs": [
    {
     "data": {
      "text/plain": [
       "(2310, 18)"
      ]
     },
     "execution_count": 1020,
     "metadata": {},
     "output_type": "execute_result"
    }
   ],
   "source": [
    "act_ca_2019c.shape"
   ]
  },
  {
   "cell_type": "markdown",
   "metadata": {},
   "source": [
    "# 2.3 Check for any obvious issues with the observations \n",
    "#### (keep in mind the minimum & maximum possible values for each test/subtest)."
   ]
  },
  {
   "cell_type": "markdown",
   "metadata": {},
   "source": [
    "## CA 2019 min, max, value_counts\n",
    "\n",
    "#### To Do \n",
    "#### [x] delete columns 0-4 and 17 .\n",
    "#### [x] convert columns 10-16 to float.\n",
    "#### [x] look into eliminating unneccessary rows.\n",
    "#### [x] check duplicate values in categorical data\n",
    "#### [x] check the reasoning and eliminate suspected \"star nulls\" (hundreds of * values in data)\n",
    "#### [x] rename columns to proper format"
   ]
  },
  {
   "cell_type": "code",
   "execution_count": 1021,
   "metadata": {},
   "outputs": [
    {
     "data": {
      "text/plain": [
       "CDS            0.0\n",
       "CCode          0.0\n",
       "CDCode         0.0\n",
       "SCode          0.0\n",
       "Enroll12       0.0\n",
       "NumTstTakr     0.0\n",
       "Unnamed: 17    NaN\n",
       "dtype: float64"
      ]
     },
     "execution_count": 1021,
     "metadata": {},
     "output_type": "execute_result"
    }
   ],
   "source": [
    "act_ca_2019c.min()"
   ]
  },
  {
   "cell_type": "code",
   "execution_count": 1022,
   "metadata": {},
   "outputs": [
    {
     "data": {
      "text/plain": [
       "CDS            5.872770e+13\n",
       "CCode          5.800000e+01\n",
       "CDCode         5.872769e+06\n",
       "SCode          6.120893e+06\n",
       "Enroll12       4.896500e+05\n",
       "NumTstTakr     8.266800e+04\n",
       "Unnamed: 17             NaN\n",
       "dtype: float64"
      ]
     },
     "execution_count": 1022,
     "metadata": {},
     "output_type": "execute_result"
    }
   ],
   "source": [
    "act_ca_2019c.max()"
   ]
  },
  {
   "cell_type": "code",
   "execution_count": 1023,
   "metadata": {},
   "outputs": [
    {
     "name": "stdout",
     "output_type": "stream",
     "text": [
      "<class 'pandas.core.frame.DataFrame'>\n",
      "RangeIndex: 2310 entries, 0 to 2309\n",
      "Data columns (total 18 columns):\n",
      " #   Column       Non-Null Count  Dtype  \n",
      "---  ------       --------------  -----  \n",
      " 0   CDS          2309 non-null   float64\n",
      " 1   CCode        2309 non-null   float64\n",
      " 2   CDCode       2309 non-null   float64\n",
      " 3   SCode        1787 non-null   float64\n",
      " 4   RType        2309 non-null   object \n",
      " 5   SName        1729 non-null   object \n",
      " 6   DName        2251 non-null   object \n",
      " 7   CName        2309 non-null   object \n",
      " 8   Enroll12     2309 non-null   float64\n",
      " 9   NumTstTakr   2309 non-null   float64\n",
      " 10  AvgScrRead   1953 non-null   object \n",
      " 11  AvgScrEng    1953 non-null   object \n",
      " 12  AvgScrMath   1953 non-null   object \n",
      " 13  AvgScrSci    1953 non-null   object \n",
      " 14  NumGE21      1953 non-null   object \n",
      " 15  PctGE21      1953 non-null   object \n",
      " 16  Year         2309 non-null   object \n",
      " 17  Unnamed: 17  0 non-null      float64\n",
      "dtypes: float64(7), object(11)\n",
      "memory usage: 325.0+ KB\n"
     ]
    }
   ],
   "source": [
    "act_ca_2019c.info() #Right away I can tell ACT score columns need to be converted to float. \n",
    "#I can probably delete the first 5 columns as they are idenitifiers\n",
    "#column 17 can be deleted as it contains nothing. \n",
    "# convert columns (AvgScrRead, AvgScrEng, SvgScrMath, AvgScrSci, NumGE21, PctGE21 and Year) to float"
   ]
  },
  {
   "cell_type": "code",
   "execution_count": 1024,
   "metadata": {},
   "outputs": [],
   "source": [
    "act_ca_2019c['PctGE21'].value_counts().head(); #There appears to be a * acting as a null value."
   ]
  },
  {
   "cell_type": "code",
   "execution_count": 1025,
   "metadata": {},
   "outputs": [],
   "source": [
    "act_ca_2019c['NumGE21'].value_counts().head(); #Also a * acting as a null value."
   ]
  },
  {
   "cell_type": "code",
   "execution_count": 1026,
   "metadata": {},
   "outputs": [],
   "source": [
    "act_ca_2019c['AvgScrSci'].value_counts().head(); #More star nulls"
   ]
  },
  {
   "cell_type": "code",
   "execution_count": 1027,
   "metadata": {},
   "outputs": [],
   "source": [
    "act_ca_2019c['AvgScrMath'].value_counts().head(); #More star nulls"
   ]
  },
  {
   "cell_type": "code",
   "execution_count": 1028,
   "metadata": {},
   "outputs": [],
   "source": [
    "act_ca_2019c['AvgScrEng'].value_counts().head(); #Still more star nulls"
   ]
  },
  {
   "cell_type": "code",
   "execution_count": 1029,
   "metadata": {},
   "outputs": [],
   "source": [
    "act_ca_2019c['AvgScrRead'].value_counts().head(); #star nulls"
   ]
  },
  {
   "cell_type": "code",
   "execution_count": 1030,
   "metadata": {},
   "outputs": [],
   "source": [
    "act_ca_2019c['NumTstTakr'].value_counts().head(); # 356 zero values, 1 value at 82668(This may be a mistake)"
   ]
  },
  {
   "cell_type": "code",
   "execution_count": 1031,
   "metadata": {},
   "outputs": [],
   "source": [
    "act_ca_2019c['Enroll12'].value_counts().head(); #finally, nothing really abnormal except possible duplicates"
   ]
  },
  {
   "cell_type": "code",
   "execution_count": 1032,
   "metadata": {},
   "outputs": [],
   "source": [
    "act_ca_2019c['CName'].value_counts().head(); #possible duplicate values"
   ]
  },
  {
   "cell_type": "code",
   "execution_count": 1033,
   "metadata": {},
   "outputs": [],
   "source": [
    "act_ca_2019c['DName'].value_counts().head(); #possible duplicate values"
   ]
  },
  {
   "cell_type": "code",
   "execution_count": 1034,
   "metadata": {},
   "outputs": [],
   "source": [
    "act_ca_2019c['SName'].value_counts().head(); #There may duplicate values here. "
   ]
  },
  {
   "cell_type": "markdown",
   "metadata": {},
   "source": [
    "# 4. Fix any errors you identified in steps 2-3"
   ]
  },
  {
   "cell_type": "markdown",
   "metadata": {},
   "source": [
    "## Fix Ca 2019 errors"
   ]
  },
  {
   "cell_type": "markdown",
   "metadata": {},
   "source": [
    "#### Rename dataframe to easier format"
   ]
  },
  {
   "cell_type": "code",
   "execution_count": 1035,
   "metadata": {},
   "outputs": [],
   "source": [
    "ca_df = act_ca_2019c\n",
    "ca_df.head();"
   ]
  },
  {
   "cell_type": "markdown",
   "metadata": {},
   "source": [
    "#### Delete columns 0-4, 16, 17. \n",
    "##### Realized I didn't need year column either since it is all the same year. "
   ]
  },
  {
   "cell_type": "code",
   "execution_count": 1036,
   "metadata": {},
   "outputs": [],
   "source": [
    "ca_df.drop(columns = ['CDS', 'CCode', 'CDCode', 'SCode', 'RType', 'Unnamed: 17', 'Year'], inplace = True) "
   ]
  },
  {
   "cell_type": "code",
   "execution_count": 1037,
   "metadata": {},
   "outputs": [
    {
     "data": {
      "text/html": [
       "<div>\n",
       "<style scoped>\n",
       "    .dataframe tbody tr th:only-of-type {\n",
       "        vertical-align: middle;\n",
       "    }\n",
       "\n",
       "    .dataframe tbody tr th {\n",
       "        vertical-align: top;\n",
       "    }\n",
       "\n",
       "    .dataframe thead th {\n",
       "        text-align: right;\n",
       "    }\n",
       "</style>\n",
       "<table border=\"1\" class=\"dataframe\">\n",
       "  <thead>\n",
       "    <tr style=\"text-align: right;\">\n",
       "      <th></th>\n",
       "      <th>SName</th>\n",
       "      <th>DName</th>\n",
       "      <th>CName</th>\n",
       "      <th>Enroll12</th>\n",
       "      <th>NumTstTakr</th>\n",
       "      <th>AvgScrRead</th>\n",
       "      <th>AvgScrEng</th>\n",
       "      <th>AvgScrMath</th>\n",
       "      <th>AvgScrSci</th>\n",
       "      <th>NumGE21</th>\n",
       "      <th>PctGE21</th>\n",
       "    </tr>\n",
       "  </thead>\n",
       "  <tbody>\n",
       "    <tr>\n",
       "      <th>0</th>\n",
       "      <td>21st Century Learning Institute</td>\n",
       "      <td>Beaumont Unified</td>\n",
       "      <td>Riverside</td>\n",
       "      <td>18.0</td>\n",
       "      <td>0.0</td>\n",
       "      <td>NaN</td>\n",
       "      <td>NaN</td>\n",
       "      <td>NaN</td>\n",
       "      <td>NaN</td>\n",
       "      <td>NaN</td>\n",
       "      <td>NaN</td>\n",
       "    </tr>\n",
       "    <tr>\n",
       "      <th>1</th>\n",
       "      <td>ABC Secondary (Alternative)</td>\n",
       "      <td>ABC Unified</td>\n",
       "      <td>Los Angeles</td>\n",
       "      <td>58.0</td>\n",
       "      <td>0.0</td>\n",
       "      <td>NaN</td>\n",
       "      <td>NaN</td>\n",
       "      <td>NaN</td>\n",
       "      <td>NaN</td>\n",
       "      <td>NaN</td>\n",
       "      <td>NaN</td>\n",
       "    </tr>\n",
       "    <tr>\n",
       "      <th>2</th>\n",
       "      <td>Abraham Lincoln Alternative</td>\n",
       "      <td>Southern Kern Unified</td>\n",
       "      <td>Kern</td>\n",
       "      <td>18.0</td>\n",
       "      <td>0.0</td>\n",
       "      <td>NaN</td>\n",
       "      <td>NaN</td>\n",
       "      <td>NaN</td>\n",
       "      <td>NaN</td>\n",
       "      <td>NaN</td>\n",
       "      <td>NaN</td>\n",
       "    </tr>\n",
       "    <tr>\n",
       "      <th>3</th>\n",
       "      <td>Abraham Lincoln High</td>\n",
       "      <td>San Jose Unified</td>\n",
       "      <td>Santa Clara</td>\n",
       "      <td>463.0</td>\n",
       "      <td>53.0</td>\n",
       "      <td>23</td>\n",
       "      <td>22</td>\n",
       "      <td>22</td>\n",
       "      <td>23</td>\n",
       "      <td>34</td>\n",
       "      <td>64.15</td>\n",
       "    </tr>\n",
       "    <tr>\n",
       "      <th>4</th>\n",
       "      <td>Abraham Lincoln Senior High</td>\n",
       "      <td>Los Angeles Unified</td>\n",
       "      <td>Los Angeles</td>\n",
       "      <td>226.0</td>\n",
       "      <td>19.0</td>\n",
       "      <td>21</td>\n",
       "      <td>20</td>\n",
       "      <td>23</td>\n",
       "      <td>22</td>\n",
       "      <td>11</td>\n",
       "      <td>57.89</td>\n",
       "    </tr>\n",
       "  </tbody>\n",
       "</table>\n",
       "</div>"
      ],
      "text/plain": [
       "                             SName                  DName        CName  \\\n",
       "0  21st Century Learning Institute       Beaumont Unified    Riverside   \n",
       "1      ABC Secondary (Alternative)            ABC Unified  Los Angeles   \n",
       "2      Abraham Lincoln Alternative  Southern Kern Unified         Kern   \n",
       "3             Abraham Lincoln High       San Jose Unified  Santa Clara   \n",
       "4      Abraham Lincoln Senior High    Los Angeles Unified  Los Angeles   \n",
       "\n",
       "   Enroll12  NumTstTakr AvgScrRead AvgScrEng AvgScrMath AvgScrSci NumGE21  \\\n",
       "0      18.0         0.0        NaN       NaN        NaN       NaN     NaN   \n",
       "1      58.0         0.0        NaN       NaN        NaN       NaN     NaN   \n",
       "2      18.0         0.0        NaN       NaN        NaN       NaN     NaN   \n",
       "3     463.0        53.0         23        22         22        23      34   \n",
       "4     226.0        19.0         21        20         23        22      11   \n",
       "\n",
       "  PctGE21  \n",
       "0     NaN  \n",
       "1     NaN  \n",
       "2     NaN  \n",
       "3   64.15  \n",
       "4   57.89  "
      ]
     },
     "execution_count": 1037,
     "metadata": {},
     "output_type": "execute_result"
    }
   ],
   "source": [
    "ca_df.head()"
   ]
  },
  {
   "cell_type": "markdown",
   "metadata": {},
   "source": [
    "#### Check the reasoning and eliminate suspected \"star nulls\" (hundreds of * values in data)\n",
    "#### - look into eliminating rows with nulls"
   ]
  },
  {
   "cell_type": "code",
   "execution_count": 1038,
   "metadata": {},
   "outputs": [],
   "source": [
    "ca_df.isnull().mean() * 100; #School Name has 25% null values. District Name has 2.5%.\n",
    "# The test taker and score columns have 15% null values\n",
    "# There's alot of work to do regarding null values. "
   ]
  },
  {
   "cell_type": "code",
   "execution_count": 1039,
   "metadata": {},
   "outputs": [],
   "source": [
    "ca_df.dropna(inplace = True) #There are stil alot of \"star nulls\""
   ]
  },
  {
   "cell_type": "code",
   "execution_count": 1040,
   "metadata": {},
   "outputs": [],
   "source": [
    "ca_df.isnull().mean();"
   ]
  },
  {
   "cell_type": "code",
   "execution_count": 1041,
   "metadata": {},
   "outputs": [],
   "source": [
    "ca_df[ca_df['AvgScrRead'] == '*'].head(); #In the Read_me file the notes indicate that NumTstTakr less than 15 do not have scores reported. \n",
    "# I am going to eliminate all rows with NumTstTakr < 15"
   ]
  },
  {
   "cell_type": "code",
   "execution_count": 1042,
   "metadata": {},
   "outputs": [],
   "source": [
    "ca_df = ca_df[ca_df['AvgScrRead'] != '*']"
   ]
  },
  {
   "cell_type": "code",
   "execution_count": 1043,
   "metadata": {},
   "outputs": [
    {
     "data": {
      "text/html": [
       "<div>\n",
       "<style scoped>\n",
       "    .dataframe tbody tr th:only-of-type {\n",
       "        vertical-align: middle;\n",
       "    }\n",
       "\n",
       "    .dataframe tbody tr th {\n",
       "        vertical-align: top;\n",
       "    }\n",
       "\n",
       "    .dataframe thead th {\n",
       "        text-align: right;\n",
       "    }\n",
       "</style>\n",
       "<table border=\"1\" class=\"dataframe\">\n",
       "  <thead>\n",
       "    <tr style=\"text-align: right;\">\n",
       "      <th></th>\n",
       "      <th>SName</th>\n",
       "      <th>DName</th>\n",
       "      <th>CName</th>\n",
       "      <th>Enroll12</th>\n",
       "      <th>NumTstTakr</th>\n",
       "      <th>AvgScrRead</th>\n",
       "      <th>AvgScrEng</th>\n",
       "      <th>AvgScrMath</th>\n",
       "      <th>AvgScrSci</th>\n",
       "      <th>NumGE21</th>\n",
       "      <th>PctGE21</th>\n",
       "    </tr>\n",
       "  </thead>\n",
       "  <tbody>\n",
       "  </tbody>\n",
       "</table>\n",
       "</div>"
      ],
      "text/plain": [
       "Empty DataFrame\n",
       "Columns: [SName, DName, CName, Enroll12, NumTstTakr, AvgScrRead, AvgScrEng, AvgScrMath, AvgScrSci, NumGE21, PctGE21]\n",
       "Index: []"
      ]
     },
     "execution_count": 1043,
     "metadata": {},
     "output_type": "execute_result"
    }
   ],
   "source": [
    "ca_df[ca_df['AvgScrRead'] == '*'] # All 'Star Nulls' have been eliminated"
   ]
  },
  {
   "cell_type": "code",
   "execution_count": 1044,
   "metadata": {},
   "outputs": [
    {
     "data": {
      "text/html": [
       "<div>\n",
       "<style scoped>\n",
       "    .dataframe tbody tr th:only-of-type {\n",
       "        vertical-align: middle;\n",
       "    }\n",
       "\n",
       "    .dataframe tbody tr th {\n",
       "        vertical-align: top;\n",
       "    }\n",
       "\n",
       "    .dataframe thead th {\n",
       "        text-align: right;\n",
       "    }\n",
       "</style>\n",
       "<table border=\"1\" class=\"dataframe\">\n",
       "  <thead>\n",
       "    <tr style=\"text-align: right;\">\n",
       "      <th></th>\n",
       "      <th>SName</th>\n",
       "      <th>DName</th>\n",
       "      <th>CName</th>\n",
       "      <th>Enroll12</th>\n",
       "      <th>NumTstTakr</th>\n",
       "      <th>AvgScrRead</th>\n",
       "      <th>AvgScrEng</th>\n",
       "      <th>AvgScrMath</th>\n",
       "      <th>AvgScrSci</th>\n",
       "      <th>NumGE21</th>\n",
       "      <th>PctGE21</th>\n",
       "    </tr>\n",
       "  </thead>\n",
       "  <tbody>\n",
       "  </tbody>\n",
       "</table>\n",
       "</div>"
      ],
      "text/plain": [
       "Empty DataFrame\n",
       "Columns: [SName, DName, CName, Enroll12, NumTstTakr, AvgScrRead, AvgScrEng, AvgScrMath, AvgScrSci, NumGE21, PctGE21]\n",
       "Index: []"
      ]
     },
     "execution_count": 1044,
     "metadata": {},
     "output_type": "execute_result"
    }
   ],
   "source": [
    "ca_df[ca_df['NumTstTakr'] < 15] #eliminated all values of NumTstTakr under 15"
   ]
  },
  {
   "cell_type": "markdown",
   "metadata": {},
   "source": [
    "#### Check duplicate values in categorical data"
   ]
  },
  {
   "cell_type": "code",
   "execution_count": 1045,
   "metadata": {},
   "outputs": [
    {
     "data": {
      "text/html": [
       "<div>\n",
       "<style scoped>\n",
       "    .dataframe tbody tr th:only-of-type {\n",
       "        vertical-align: middle;\n",
       "    }\n",
       "\n",
       "    .dataframe tbody tr th {\n",
       "        vertical-align: top;\n",
       "    }\n",
       "\n",
       "    .dataframe thead th {\n",
       "        text-align: right;\n",
       "    }\n",
       "</style>\n",
       "<table border=\"1\" class=\"dataframe\">\n",
       "  <thead>\n",
       "    <tr style=\"text-align: right;\">\n",
       "      <th></th>\n",
       "      <th>SName</th>\n",
       "      <th>DName</th>\n",
       "      <th>CName</th>\n",
       "      <th>Enroll12</th>\n",
       "      <th>NumTstTakr</th>\n",
       "      <th>AvgScrRead</th>\n",
       "      <th>AvgScrEng</th>\n",
       "      <th>AvgScrMath</th>\n",
       "      <th>AvgScrSci</th>\n",
       "      <th>NumGE21</th>\n",
       "      <th>PctGE21</th>\n",
       "    </tr>\n",
       "  </thead>\n",
       "  <tbody>\n",
       "  </tbody>\n",
       "</table>\n",
       "</div>"
      ],
      "text/plain": [
       "Empty DataFrame\n",
       "Columns: [SName, DName, CName, Enroll12, NumTstTakr, AvgScrRead, AvgScrEng, AvgScrMath, AvgScrSci, NumGE21, PctGE21]\n",
       "Index: []"
      ]
     },
     "execution_count": 1045,
     "metadata": {},
     "output_type": "execute_result"
    }
   ],
   "source": [
    "# initially I tried ca_df.duplicated and it returned a series of False values. \n",
    "#I wrapped it in brackets and put the df in front and it returned a column header with no values. \n",
    "ca_df[ca_df.duplicated(keep=False)] #using duplicated to see if any duplicate values exist. None Exist."
   ]
  },
  {
   "cell_type": "markdown",
   "metadata": {},
   "source": [
    "#### Convert columns NumTstTakr, AvgScrRead, AvgScrEng, AvgScrMath, AvgScrSci, NumGE21, PctGE21 to float."
   ]
  },
  {
   "cell_type": "code",
   "execution_count": 1046,
   "metadata": {},
   "outputs": [
    {
     "name": "stderr",
     "output_type": "stream",
     "text": [
      "/Users/jamesopacich/opt/anaconda3/lib/python3.8/site-packages/pandas/core/indexing.py:966: SettingWithCopyWarning: \n",
      "A value is trying to be set on a copy of a slice from a DataFrame.\n",
      "Try using .loc[row_indexer,col_indexer] = value instead\n",
      "\n",
      "See the caveats in the documentation: https://pandas.pydata.org/pandas-docs/stable/user_guide/indexing.html#returning-a-view-versus-a-copy\n",
      "  self.obj[item] = s\n"
     ]
    }
   ],
   "source": [
    "#converting average read score to float\n",
    "ca_df.loc[: , 'AvgScrRead'] = ca_df.loc[:, 'AvgScrRead'].astype(float)"
   ]
  },
  {
   "cell_type": "code",
   "execution_count": 1047,
   "metadata": {},
   "outputs": [],
   "source": [
    "#converting avg eng to float\n",
    "ca_df.loc[:, 'AvgScrEng'] = ca_df.loc[:, 'AvgScrEng'].astype(float)"
   ]
  },
  {
   "cell_type": "code",
   "execution_count": 1048,
   "metadata": {},
   "outputs": [],
   "source": [
    "#converting avg math to float\n",
    "ca_df.loc[:, 'AvgScrMath'] = ca_df.loc[ : , 'AvgScrMath'].astype(float)"
   ]
  },
  {
   "cell_type": "code",
   "execution_count": 1049,
   "metadata": {},
   "outputs": [],
   "source": [
    "#converting avg sci to float\n",
    "ca_df.loc[:, 'AvgScrSci'] = ca_df.loc[ : , 'AvgScrSci'].astype(float)"
   ]
  },
  {
   "cell_type": "code",
   "execution_count": 1050,
   "metadata": {},
   "outputs": [],
   "source": [
    "#converting 21 plus to float\n",
    "ca_df.loc[:, 'NumGE21'] = ca_df.loc[ : , 'NumGE21'].astype(float)"
   ]
  },
  {
   "cell_type": "code",
   "execution_count": 1051,
   "metadata": {},
   "outputs": [],
   "source": [
    "#converting 21 pct to float\n",
    "ca_df.loc[:, 'PctGE21'] = ca_df.loc[ : , 'PctGE21'].astype(float)"
   ]
  },
  {
   "cell_type": "markdown",
   "metadata": {},
   "source": [
    "# 5. Display the data types of each feature"
   ]
  },
  {
   "cell_type": "code",
   "execution_count": 1052,
   "metadata": {},
   "outputs": [],
   "source": [
    "#confirming datatypes\n",
    "ca_df.dtypes;"
   ]
  },
  {
   "cell_type": "markdown",
   "metadata": {},
   "source": [
    "# 6. Rename Columns"
   ]
  },
  {
   "cell_type": "code",
   "execution_count": 1053,
   "metadata": {},
   "outputs": [],
   "source": [
    "# create a dictionary of column names for the purpose of renaming columns\n",
    "col_names = {\n",
    "            'SName': 'school',\n",
    "            'DName': 'district',\n",
    "            'CName': 'county',\n",
    "            'Enroll12': 'g12_enroll',\n",
    "            'NumTstTakr': 'num_tested',\n",
    "            'AvgScrRead': 'avg_read',\n",
    "            'AvgScrEng': 'avg_eng',\n",
    "            'AvgScrMath': 'avg_math',\n",
    "            'AvgScrSci': 'avg_sci',\n",
    "            'NumGE21': 'num_21_plus',\n",
    "            'PctGE21': 'pct_21_plus'\n",
    "            }"
   ]
  },
  {
   "cell_type": "code",
   "execution_count": 1054,
   "metadata": {},
   "outputs": [
    {
     "name": "stderr",
     "output_type": "stream",
     "text": [
      "/Users/jamesopacich/opt/anaconda3/lib/python3.8/site-packages/pandas/core/frame.py:4125: SettingWithCopyWarning: \n",
      "A value is trying to be set on a copy of a slice from a DataFrame\n",
      "\n",
      "See the caveats in the documentation: https://pandas.pydata.org/pandas-docs/stable/user_guide/indexing.html#returning-a-view-versus-a-copy\n",
      "  return super().rename(\n"
     ]
    }
   ],
   "source": [
    "# changing column names using list above\n",
    "ca_df.rename(columns = col_names, inplace = True)\n",
    "ca_df.columns;"
   ]
  },
  {
   "cell_type": "code",
   "execution_count": 1055,
   "metadata": {},
   "outputs": [
    {
     "data": {
      "text/plain": [
       "RangeIndex(start=0, stop=1017, step=1)"
      ]
     },
     "execution_count": 1055,
     "metadata": {},
     "output_type": "execute_result"
    }
   ],
   "source": [
    "# resetting row index so it starts at zero again. When I deleted columns above it messed them up. \n",
    "ca_df.reset_index(drop = True, inplace = True)\n",
    "ca_df.index"
   ]
  },
  {
   "cell_type": "markdown",
   "metadata": {},
   "source": [
    "#### eliminate statewide info from dataframe"
   ]
  },
  {
   "cell_type": "code",
   "execution_count": 1056,
   "metadata": {},
   "outputs": [],
   "source": [
    "no_cal_df = ca_df.drop(878) #create a df without state of california information"
   ]
  },
  {
   "cell_type": "code",
   "execution_count": 1057,
   "metadata": {},
   "outputs": [
    {
     "data": {
      "text/html": [
       "<div>\n",
       "<style scoped>\n",
       "    .dataframe tbody tr th:only-of-type {\n",
       "        vertical-align: middle;\n",
       "    }\n",
       "\n",
       "    .dataframe tbody tr th {\n",
       "        vertical-align: top;\n",
       "    }\n",
       "\n",
       "    .dataframe thead th {\n",
       "        text-align: right;\n",
       "    }\n",
       "</style>\n",
       "<table border=\"1\" class=\"dataframe\">\n",
       "  <thead>\n",
       "    <tr style=\"text-align: right;\">\n",
       "      <th></th>\n",
       "      <th>school</th>\n",
       "      <th>district</th>\n",
       "      <th>county</th>\n",
       "      <th>g12_enroll</th>\n",
       "      <th>num_tested</th>\n",
       "      <th>avg_read</th>\n",
       "      <th>avg_eng</th>\n",
       "      <th>avg_math</th>\n",
       "      <th>avg_sci</th>\n",
       "      <th>num_21_plus</th>\n",
       "      <th>pct_21_plus</th>\n",
       "    </tr>\n",
       "  </thead>\n",
       "  <tbody>\n",
       "  </tbody>\n",
       "</table>\n",
       "</div>"
      ],
      "text/plain": [
       "Empty DataFrame\n",
       "Columns: [school, district, county, g12_enroll, num_tested, avg_read, avg_eng, avg_math, avg_sci, num_21_plus, pct_21_plus]\n",
       "Index: []"
      ]
     },
     "execution_count": 1057,
     "metadata": {},
     "output_type": "execute_result"
    }
   ],
   "source": [
    "no_cal_df[no_cal_df['school'] == 'State of California']"
   ]
  },
  {
   "cell_type": "markdown",
   "metadata": {},
   "source": [
    "# 8. Save your cleaned and merged dataframes as csv file"
   ]
  },
  {
   "cell_type": "code",
   "execution_count": 1058,
   "metadata": {},
   "outputs": [],
   "source": [
    "#dataframe without california values in the rows\n",
    "no_cal_df.to_csv('ca_act_2019_df', index = 'False')"
   ]
  },
  {
   "cell_type": "markdown",
   "metadata": {},
   "source": [
    "## My Data Dictionary"
   ]
  },
  {
   "cell_type": "markdown",
   "metadata": {},
   "source": [
    "\n",
    "\n",
    "|Feature|Type|Dataset|Description|\n",
    "|---|---|---|---|\n",
    "|school|object|CA State ACT Data 2019|The smallest categorical value. A school is within a CA district|\n",
    "|district|object|CA State ACT Data 2019|A collection of one or more schools in close regional proximity|\n",
    "|county|object|CA State ACT Data 2019|A collection of districts in close regional proximity|\n",
    "|g12_enroll|float|CA State ACT Data 2019|Number of students enrolled in G12 per Local Education Agency (LEA)|\n",
    "|num_tested|float|CA State ACT Data 2019|Number of students tested per Local Education Agency (LEA)|\n",
    "|avg_read|float|CA State ACT Data 2019|Average per school score for reading portion of ACT|\n",
    "|avg_eng|float|CA State ACT Data 2019|Average per school score for english portion of ACT|\n",
    "|avg_math|float|CA State ACT Data 2019|Average per school score for math portion of ACT|\n",
    "|avg_sci|float|CA State ACT Data 2019|Average per school score for science portion of ACT|\n",
    "|num_21_plus|float|CA State ACT Data 2019|Number per school of ACT composite score greater than 21|\n",
    "|pct_21_plus|float|CA State ACT Data 2019|Percent per school of ACT composite score greater than 21|"
   ]
  },
  {
   "cell_type": "markdown",
   "metadata": {},
   "source": [
    "## Exploratory Data Analysis\n",
    "\n",
    "Complete the following steps to explore your data. You are welcome to do more EDA than the steps outlined here as you feel necessary:\n",
    "1. Summary Statistics.\n",
    "2. Use a **dictionary comprehension** to apply the standard deviation function you create in part 1 to each numeric column in the dataframe.  **No loops**.\n",
    "    - Assign the output to variable `sd` as a dictionary where: \n",
    "        - Each column name is now a key \n",
    "        - That standard deviation of the column is the value \n",
    "        - *Example Output :* `{'ACT_Math': 120, 'ACT_Reading': 120, ...}`\n",
    "3. Investigate trends in the data.\n",
    "    - Using sorting and/or masking (along with the `.head()` method to avoid printing our entire dataframe), consider questions relevant to your problem statement. Some examples are provided below (but feel free to change these questions for your specific problem):\n",
    "        - Which states have the highest and lowest participation rates for the 2017, 2019, or 2019 SAT and ACT?\n",
    "        - Which states have the highest and lowest mean total/composite scores for the 2017, 2019, or 2019 SAT and ACT?\n",
    "        - Do any states with 100% participation on a given test have a rate change year-to-year?\n",
    "        - Do any states show have >50% participation on *both* tests each year?\n",
    "        - Which colleges have the highest median SAT and ACT scores for admittance?\n",
    "        - Which California school districts have the highest and lowest mean test scores?\n",
    "    - **You should comment on your findings at each step in a markdown cell below your code block**. Make sure you include at least one example of sorting your dataframe by a column, and one example of using boolean filtering (i.e., masking) to select a subset of the dataframe."
   ]
  },
  {
   "cell_type": "markdown",
   "metadata": {},
   "source": [
    "# 1. Summary Statistics"
   ]
  },
  {
   "cell_type": "code",
   "execution_count": 1059,
   "metadata": {},
   "outputs": [
    {
     "data": {
      "text/html": [
       "<div>\n",
       "<style scoped>\n",
       "    .dataframe tbody tr th:only-of-type {\n",
       "        vertical-align: middle;\n",
       "    }\n",
       "\n",
       "    .dataframe tbody tr th {\n",
       "        vertical-align: top;\n",
       "    }\n",
       "\n",
       "    .dataframe thead th {\n",
       "        text-align: right;\n",
       "    }\n",
       "</style>\n",
       "<table border=\"1\" class=\"dataframe\">\n",
       "  <thead>\n",
       "    <tr style=\"text-align: right;\">\n",
       "      <th></th>\n",
       "      <th>g12_enroll</th>\n",
       "      <th>num_tested</th>\n",
       "      <th>avg_read</th>\n",
       "      <th>avg_eng</th>\n",
       "      <th>avg_math</th>\n",
       "      <th>avg_sci</th>\n",
       "      <th>num_21_plus</th>\n",
       "      <th>pct_21_plus</th>\n",
       "    </tr>\n",
       "  </thead>\n",
       "  <tbody>\n",
       "    <tr>\n",
       "      <th>count</th>\n",
       "      <td>1017.000000</td>\n",
       "      <td>1017.000000</td>\n",
       "      <td>1017.000000</td>\n",
       "      <td>1017.000000</td>\n",
       "      <td>1017.000000</td>\n",
       "      <td>1017.000000</td>\n",
       "      <td>1017.000000</td>\n",
       "      <td>1017.000000</td>\n",
       "    </tr>\n",
       "    <tr>\n",
       "      <th>mean</th>\n",
       "      <td>852.931170</td>\n",
       "      <td>160.352999</td>\n",
       "      <td>21.870206</td>\n",
       "      <td>21.018682</td>\n",
       "      <td>21.271386</td>\n",
       "      <td>21.190757</td>\n",
       "      <td>88.336283</td>\n",
       "      <td>51.310482</td>\n",
       "    </tr>\n",
       "    <tr>\n",
       "      <th>std</th>\n",
       "      <td>15343.857174</td>\n",
       "      <td>2590.623389</td>\n",
       "      <td>3.821158</td>\n",
       "      <td>4.207072</td>\n",
       "      <td>3.498185</td>\n",
       "      <td>3.333644</td>\n",
       "      <td>1425.204738</td>\n",
       "      <td>26.521268</td>\n",
       "    </tr>\n",
       "    <tr>\n",
       "      <th>min</th>\n",
       "      <td>0.000000</td>\n",
       "      <td>15.000000</td>\n",
       "      <td>12.000000</td>\n",
       "      <td>10.000000</td>\n",
       "      <td>14.000000</td>\n",
       "      <td>12.000000</td>\n",
       "      <td>0.000000</td>\n",
       "      <td>0.000000</td>\n",
       "    </tr>\n",
       "    <tr>\n",
       "      <th>25%</th>\n",
       "      <td>173.000000</td>\n",
       "      <td>33.000000</td>\n",
       "      <td>19.000000</td>\n",
       "      <td>18.000000</td>\n",
       "      <td>18.000000</td>\n",
       "      <td>19.000000</td>\n",
       "      <td>12.000000</td>\n",
       "      <td>28.570000</td>\n",
       "    </tr>\n",
       "    <tr>\n",
       "      <th>50%</th>\n",
       "      <td>382.000000</td>\n",
       "      <td>58.000000</td>\n",
       "      <td>22.000000</td>\n",
       "      <td>21.000000</td>\n",
       "      <td>21.000000</td>\n",
       "      <td>21.000000</td>\n",
       "      <td>24.000000</td>\n",
       "      <td>52.940000</td>\n",
       "    </tr>\n",
       "    <tr>\n",
       "      <th>75%</th>\n",
       "      <td>524.000000</td>\n",
       "      <td>105.000000</td>\n",
       "      <td>25.000000</td>\n",
       "      <td>24.000000</td>\n",
       "      <td>24.000000</td>\n",
       "      <td>24.000000</td>\n",
       "      <td>55.000000</td>\n",
       "      <td>74.600000</td>\n",
       "    </tr>\n",
       "    <tr>\n",
       "      <th>max</th>\n",
       "      <td>489650.000000</td>\n",
       "      <td>82668.000000</td>\n",
       "      <td>32.000000</td>\n",
       "      <td>32.000000</td>\n",
       "      <td>32.000000</td>\n",
       "      <td>31.000000</td>\n",
       "      <td>45466.000000</td>\n",
       "      <td>100.000000</td>\n",
       "    </tr>\n",
       "  </tbody>\n",
       "</table>\n",
       "</div>"
      ],
      "text/plain": [
       "          g12_enroll    num_tested     avg_read      avg_eng     avg_math  \\\n",
       "count    1017.000000   1017.000000  1017.000000  1017.000000  1017.000000   \n",
       "mean      852.931170    160.352999    21.870206    21.018682    21.271386   \n",
       "std     15343.857174   2590.623389     3.821158     4.207072     3.498185   \n",
       "min         0.000000     15.000000    12.000000    10.000000    14.000000   \n",
       "25%       173.000000     33.000000    19.000000    18.000000    18.000000   \n",
       "50%       382.000000     58.000000    22.000000    21.000000    21.000000   \n",
       "75%       524.000000    105.000000    25.000000    24.000000    24.000000   \n",
       "max    489650.000000  82668.000000    32.000000    32.000000    32.000000   \n",
       "\n",
       "           avg_sci   num_21_plus  pct_21_plus  \n",
       "count  1017.000000   1017.000000  1017.000000  \n",
       "mean     21.190757     88.336283    51.310482  \n",
       "std       3.333644   1425.204738    26.521268  \n",
       "min      12.000000      0.000000     0.000000  \n",
       "25%      19.000000     12.000000    28.570000  \n",
       "50%      21.000000     24.000000    52.940000  \n",
       "75%      24.000000     55.000000    74.600000  \n",
       "max      31.000000  45466.000000   100.000000  "
      ]
     },
     "execution_count": 1059,
     "metadata": {},
     "output_type": "execute_result"
    }
   ],
   "source": [
    "ca_df.describe()"
   ]
  },
  {
   "cell_type": "markdown",
   "metadata": {},
   "source": [
    "# 2.  Apply Standard Deviation Function\n",
    " - Use a dictionary comprehension to apply the standard deviation function you create in part 1 to each numeric column in the dataframe. \n",
    " - No loops.\n",
    " - Assign the output to variable sd as a dictionary where:\n",
    " - Each column name is now a key\n",
    " - That standard deviation of the column is the value\n",
    "Example Output : {'ACT_Math': 120, 'ACT_Reading': 120, ...}"
   ]
  },
  {
   "cell_type": "markdown",
   "metadata": {},
   "source": [
    "#### Standard Deviation for all Columns"
   ]
  },
  {
   "cell_type": "code",
   "execution_count": 1060,
   "metadata": {},
   "outputs": [
    {
     "data": {
      "text/plain": [
       "{'g12_enroll': 206.11162076901834,\n",
       " 'num_tested': 66.54207812149822,\n",
       " 'avg_read': 3.821155676292369,\n",
       " 'avg_eng': 4.206959118176691,\n",
       " 'avg_math': 3.4981105621185016,\n",
       " 'avg_sci': 3.333547210753729,\n",
       " 'num_21_plus': 50.08667204306384,\n",
       " 'pct_21_plus': 26.521014675360536}"
      ]
     },
     "execution_count": 1060,
     "metadata": {},
     "output_type": "execute_result"
    }
   ],
   "source": [
    "# for apply standard deviation to values in ca_df[series] if series is not 'school', 'district' or 'county'\n",
    "sdv_ca = {key: std_dev_fun(no_cal_df[key]) \n",
    " for key in no_cal_df.columns if key not in ['school', 'district', 'county']}\n",
    "sdv_ca"
   ]
  },
  {
   "cell_type": "markdown",
   "metadata": {},
   "source": [
    "# Findings on Trends in CA ACT Data\n",
    "\n",
    "#### District Level Analysis\n",
    "\n",
    "While investigating the data I decided to focus on the district level in my research. I felt the school level was too vast considering the scope of this project and the County level, although rich with data, may not be targeted enough. I assumed that if I found something interesting I could dive down to school level data or jump up to county level and if provided more time it would likely be fruitful to do both. \n",
    "\n",
    "#### District Size and Poor Performance\n",
    "In the district level data it was hard to observe any notable relationship within the initial features of the dataframe. I did notice that there was a pretty significant spread in average scores so I decided to drop down to the lowest levels of scores to find relationships. After drilling down to 21 districts who scored below the 10th percentile in both math and science I found that they seemed to mostly be smaller schools and largely in rural districts and some in economically disadvantaged districts. If I spent more time on this I would look at more segments of the population including the upper 10 percent and the middle 50 percent among others. "
   ]
  },
  {
   "cell_type": "markdown",
   "metadata": {},
   "source": [
    "# 3. Investigating Trends in CA ACT Data"
   ]
  },
  {
   "cell_type": "markdown",
   "metadata": {},
   "source": [
    "#### Correlation of Dataframe"
   ]
  },
  {
   "cell_type": "code",
   "execution_count": 1061,
   "metadata": {},
   "outputs": [
    {
     "data": {
      "text/html": [
       "<div>\n",
       "<style scoped>\n",
       "    .dataframe tbody tr th:only-of-type {\n",
       "        vertical-align: middle;\n",
       "    }\n",
       "\n",
       "    .dataframe tbody tr th {\n",
       "        vertical-align: top;\n",
       "    }\n",
       "\n",
       "    .dataframe thead th {\n",
       "        text-align: right;\n",
       "    }\n",
       "</style>\n",
       "<table border=\"1\" class=\"dataframe\">\n",
       "  <thead>\n",
       "    <tr style=\"text-align: right;\">\n",
       "      <th></th>\n",
       "      <th>g12_enroll</th>\n",
       "      <th>num_tested</th>\n",
       "      <th>avg_read</th>\n",
       "      <th>avg_eng</th>\n",
       "      <th>avg_math</th>\n",
       "      <th>avg_sci</th>\n",
       "      <th>num_21_plus</th>\n",
       "      <th>pct_21_plus</th>\n",
       "    </tr>\n",
       "  </thead>\n",
       "  <tbody>\n",
       "    <tr>\n",
       "      <th>g12_enroll</th>\n",
       "      <td>1.000000</td>\n",
       "      <td>0.999732</td>\n",
       "      <td>0.005489</td>\n",
       "      <td>0.011651</td>\n",
       "      <td>0.011424</td>\n",
       "      <td>0.012416</td>\n",
       "      <td>0.999531</td>\n",
       "      <td>0.008904</td>\n",
       "    </tr>\n",
       "    <tr>\n",
       "      <th>num_tested</th>\n",
       "      <td>0.999732</td>\n",
       "      <td>1.000000</td>\n",
       "      <td>0.005822</td>\n",
       "      <td>0.012596</td>\n",
       "      <td>0.013109</td>\n",
       "      <td>0.013393</td>\n",
       "      <td>0.999739</td>\n",
       "      <td>0.008828</td>\n",
       "    </tr>\n",
       "    <tr>\n",
       "      <th>avg_read</th>\n",
       "      <td>0.005489</td>\n",
       "      <td>0.005822</td>\n",
       "      <td>1.000000</td>\n",
       "      <td>0.978165</td>\n",
       "      <td>0.948077</td>\n",
       "      <td>0.969015</td>\n",
       "      <td>0.023390</td>\n",
       "      <td>0.968711</td>\n",
       "    </tr>\n",
       "    <tr>\n",
       "      <th>avg_eng</th>\n",
       "      <td>0.011651</td>\n",
       "      <td>0.012596</td>\n",
       "      <td>0.978165</td>\n",
       "      <td>1.000000</td>\n",
       "      <td>0.955543</td>\n",
       "      <td>0.971233</td>\n",
       "      <td>0.030462</td>\n",
       "      <td>0.963748</td>\n",
       "    </tr>\n",
       "    <tr>\n",
       "      <th>avg_math</th>\n",
       "      <td>0.011424</td>\n",
       "      <td>0.013109</td>\n",
       "      <td>0.948077</td>\n",
       "      <td>0.955543</td>\n",
       "      <td>1.000000</td>\n",
       "      <td>0.968692</td>\n",
       "      <td>0.030736</td>\n",
       "      <td>0.950833</td>\n",
       "    </tr>\n",
       "    <tr>\n",
       "      <th>avg_sci</th>\n",
       "      <td>0.012416</td>\n",
       "      <td>0.013393</td>\n",
       "      <td>0.969015</td>\n",
       "      <td>0.971233</td>\n",
       "      <td>0.968692</td>\n",
       "      <td>1.000000</td>\n",
       "      <td>0.031206</td>\n",
       "      <td>0.959270</td>\n",
       "    </tr>\n",
       "    <tr>\n",
       "      <th>num_21_plus</th>\n",
       "      <td>0.999531</td>\n",
       "      <td>0.999739</td>\n",
       "      <td>0.023390</td>\n",
       "      <td>0.030462</td>\n",
       "      <td>0.030736</td>\n",
       "      <td>0.031206</td>\n",
       "      <td>1.000000</td>\n",
       "      <td>0.026155</td>\n",
       "    </tr>\n",
       "    <tr>\n",
       "      <th>pct_21_plus</th>\n",
       "      <td>0.008904</td>\n",
       "      <td>0.008828</td>\n",
       "      <td>0.968711</td>\n",
       "      <td>0.963748</td>\n",
       "      <td>0.950833</td>\n",
       "      <td>0.959270</td>\n",
       "      <td>0.026155</td>\n",
       "      <td>1.000000</td>\n",
       "    </tr>\n",
       "  </tbody>\n",
       "</table>\n",
       "</div>"
      ],
      "text/plain": [
       "             g12_enroll  num_tested  avg_read   avg_eng  avg_math   avg_sci  \\\n",
       "g12_enroll     1.000000    0.999732  0.005489  0.011651  0.011424  0.012416   \n",
       "num_tested     0.999732    1.000000  0.005822  0.012596  0.013109  0.013393   \n",
       "avg_read       0.005489    0.005822  1.000000  0.978165  0.948077  0.969015   \n",
       "avg_eng        0.011651    0.012596  0.978165  1.000000  0.955543  0.971233   \n",
       "avg_math       0.011424    0.013109  0.948077  0.955543  1.000000  0.968692   \n",
       "avg_sci        0.012416    0.013393  0.969015  0.971233  0.968692  1.000000   \n",
       "num_21_plus    0.999531    0.999739  0.023390  0.030462  0.030736  0.031206   \n",
       "pct_21_plus    0.008904    0.008828  0.968711  0.963748  0.950833  0.959270   \n",
       "\n",
       "             num_21_plus  pct_21_plus  \n",
       "g12_enroll      0.999531     0.008904  \n",
       "num_tested      0.999739     0.008828  \n",
       "avg_read        0.023390     0.968711  \n",
       "avg_eng         0.030462     0.963748  \n",
       "avg_math        0.030736     0.950833  \n",
       "avg_sci         0.031206     0.959270  \n",
       "num_21_plus     1.000000     0.026155  \n",
       "pct_21_plus     0.026155     1.000000  "
      ]
     },
     "execution_count": 1061,
     "metadata": {},
     "output_type": "execute_result"
    }
   ],
   "source": [
    "no_cal_df_corr = ca_df.corr()\n",
    "no_cal_df_corr"
   ]
  },
  {
   "cell_type": "markdown",
   "metadata": {},
   "source": [
    "##### There doesn't seem to be a lot of juicy correlations here. Of course scores are correlated to each other but that's expected and number of students scoring 21 plus is also expected to correlate with enrollment numbers. "
   ]
  },
  {
   "cell_type": "markdown",
   "metadata": {},
   "source": [
    "## Enrollment and Testing"
   ]
  },
  {
   "cell_type": "markdown",
   "metadata": {},
   "source": [
    "### District and County Total Number Tested"
   ]
  },
  {
   "cell_type": "code",
   "execution_count": 1069,
   "metadata": {},
   "outputs": [],
   "source": [
    "# number of students tested by district\n",
    "district_test = no_cal_df.groupby('district')['num_tested'].sum().sort_values(ascending = False)\n",
    "district_test;"
   ]
  },
  {
   "cell_type": "markdown",
   "metadata": {},
   "source": [
    "##### LA unified is more than 3 times larger than the next largest district. Huge District that will likely affect group statistics. "
   ]
  },
  {
   "cell_type": "markdown",
   "metadata": {},
   "source": [
    "### District Enrollment and Testing Numbers"
   ]
  },
  {
   "cell_type": "markdown",
   "metadata": {},
   "source": [
    "#### Mean District Group"
   ]
  },
  {
   "cell_type": "code",
   "execution_count": 1063,
   "metadata": {},
   "outputs": [
    {
     "data": {
      "text/html": [
       "<div>\n",
       "<style scoped>\n",
       "    .dataframe tbody tr th:only-of-type {\n",
       "        vertical-align: middle;\n",
       "    }\n",
       "\n",
       "    .dataframe tbody tr th {\n",
       "        vertical-align: top;\n",
       "    }\n",
       "\n",
       "    .dataframe thead th {\n",
       "        text-align: right;\n",
       "    }\n",
       "</style>\n",
       "<table border=\"1\" class=\"dataframe\">\n",
       "  <thead>\n",
       "    <tr style=\"text-align: right;\">\n",
       "      <th></th>\n",
       "      <th>g12_enroll</th>\n",
       "      <th>num_tested</th>\n",
       "      <th>avg_read</th>\n",
       "      <th>avg_eng</th>\n",
       "      <th>avg_math</th>\n",
       "      <th>avg_sci</th>\n",
       "      <th>num_21_plus</th>\n",
       "      <th>pct_21_plus</th>\n",
       "    </tr>\n",
       "    <tr>\n",
       "      <th>district</th>\n",
       "      <th></th>\n",
       "      <th></th>\n",
       "      <th></th>\n",
       "      <th></th>\n",
       "      <th></th>\n",
       "      <th></th>\n",
       "      <th></th>\n",
       "      <th></th>\n",
       "    </tr>\n",
       "  </thead>\n",
       "  <tbody>\n",
       "    <tr>\n",
       "      <th>ABC Unified</th>\n",
       "      <td>359.000000</td>\n",
       "      <td>54.000000</td>\n",
       "      <td>24.5</td>\n",
       "      <td>24.5</td>\n",
       "      <td>25.00</td>\n",
       "      <td>24.000000</td>\n",
       "      <td>43.0</td>\n",
       "      <td>71.362500</td>\n",
       "    </tr>\n",
       "    <tr>\n",
       "      <th>Acalanes Union High</th>\n",
       "      <td>344.750000</td>\n",
       "      <td>134.250000</td>\n",
       "      <td>28.5</td>\n",
       "      <td>28.5</td>\n",
       "      <td>27.25</td>\n",
       "      <td>27.000000</td>\n",
       "      <td>121.5</td>\n",
       "      <td>90.507500</td>\n",
       "    </tr>\n",
       "    <tr>\n",
       "      <th>Alameda Unified</th>\n",
       "      <td>348.000000</td>\n",
       "      <td>68.500000</td>\n",
       "      <td>27.0</td>\n",
       "      <td>26.5</td>\n",
       "      <td>26.00</td>\n",
       "      <td>25.000000</td>\n",
       "      <td>60.5</td>\n",
       "      <td>86.610000</td>\n",
       "    </tr>\n",
       "    <tr>\n",
       "      <th>Albany City Unified</th>\n",
       "      <td>296.000000</td>\n",
       "      <td>58.000000</td>\n",
       "      <td>28.0</td>\n",
       "      <td>27.0</td>\n",
       "      <td>27.00</td>\n",
       "      <td>26.000000</td>\n",
       "      <td>51.0</td>\n",
       "      <td>87.930000</td>\n",
       "    </tr>\n",
       "    <tr>\n",
       "      <th>Alhambra Unified</th>\n",
       "      <td>584.666667</td>\n",
       "      <td>79.333333</td>\n",
       "      <td>24.0</td>\n",
       "      <td>24.0</td>\n",
       "      <td>24.00</td>\n",
       "      <td>23.333333</td>\n",
       "      <td>58.0</td>\n",
       "      <td>69.213333</td>\n",
       "    </tr>\n",
       "  </tbody>\n",
       "</table>\n",
       "</div>"
      ],
      "text/plain": [
       "                     g12_enroll  num_tested  avg_read  avg_eng  avg_math  \\\n",
       "district                                                                   \n",
       "ABC Unified          359.000000   54.000000      24.5     24.5     25.00   \n",
       "Acalanes Union High  344.750000  134.250000      28.5     28.5     27.25   \n",
       "Alameda Unified      348.000000   68.500000      27.0     26.5     26.00   \n",
       "Albany City Unified  296.000000   58.000000      28.0     27.0     27.00   \n",
       "Alhambra Unified     584.666667   79.333333      24.0     24.0     24.00   \n",
       "\n",
       "                       avg_sci  num_21_plus  pct_21_plus  \n",
       "district                                                  \n",
       "ABC Unified          24.000000         43.0    71.362500  \n",
       "Acalanes Union High  27.000000        121.5    90.507500  \n",
       "Alameda Unified      25.000000         60.5    86.610000  \n",
       "Albany City Unified  26.000000         51.0    87.930000  \n",
       "Alhambra Unified     23.333333         58.0    69.213333  "
      ]
     },
     "execution_count": 1063,
     "metadata": {},
     "output_type": "execute_result"
    }
   ],
   "source": [
    "#creating a dataframe grouped by district averages\n",
    "mean_district = no_cal_df.groupby('district').mean()\n",
    "mean_district.head()"
   ]
  },
  {
   "cell_type": "code",
   "execution_count": 1064,
   "metadata": {},
   "outputs": [],
   "source": [
    "#updating mean_district to actual district enrollment total\n",
    "mean_district['g12_enroll'] = mean_district['g12_enroll'] * count_district['g12_enroll']"
   ]
  },
  {
   "cell_type": "code",
   "execution_count": 1065,
   "metadata": {},
   "outputs": [],
   "source": [
    "#updating num_tested to sum of num_tested.\n",
    "mean_district['num_tested'] = mean_district['num_tested'] * count_district['num_tested']"
   ]
  },
  {
   "cell_type": "code",
   "execution_count": 1068,
   "metadata": {},
   "outputs": [],
   "source": [
    "#updating num_21_plus to actual number of num_21_plus instead of just average\n",
    "mean_district['num_21_plus'] = mean_district['num_21_plus'] * count_district['num_21_plus']\n",
    "mean_district;"
   ]
  },
  {
   "cell_type": "markdown",
   "metadata": {},
   "source": [
    "##### rename mean_district df to dist_df"
   ]
  },
  {
   "cell_type": "code",
   "execution_count": 1067,
   "metadata": {},
   "outputs": [],
   "source": [
    "dist_df = mean_district.reset_index()"
   ]
  },
  {
   "cell_type": "code",
   "execution_count": 601,
   "metadata": {},
   "outputs": [],
   "source": [
    "dist_df.head();"
   ]
  },
  {
   "cell_type": "markdown",
   "metadata": {},
   "source": [
    "##### Create dist_u3500 df that only includes districts under 3500 g12 enrollees"
   ]
  },
  {
   "cell_type": "code",
   "execution_count": 1070,
   "metadata": {},
   "outputs": [],
   "source": [
    "#create dataframe of districts under 3500 district enrollment \n",
    "dist_u3500 = dist_df[dist_df['g12_enroll'] < 3500]\n",
    "dist_u3500['g12_enroll'];"
   ]
  },
  {
   "cell_type": "markdown",
   "metadata": {},
   "source": [
    "## Participation Rate"
   ]
  },
  {
   "cell_type": "code",
   "execution_count": 1071,
   "metadata": {},
   "outputs": [],
   "source": [
    "# come up with district participation rate by dividing num tested by enrollment\n",
    "dist_part_rate = dist_df['num_tested'] / dist_df['g12_enroll']\n",
    "dist_part_rate;"
   ]
  },
  {
   "cell_type": "markdown",
   "metadata": {},
   "source": [
    "##### quantiles of district participation rates"
   ]
  },
  {
   "cell_type": "code",
   "execution_count": 1072,
   "metadata": {},
   "outputs": [
    {
     "data": {
      "text/plain": [
       "0.05    0.078843\n",
       "0.10    0.087486\n",
       "0.25    0.126500\n",
       "0.50    0.191798\n",
       "0.75    0.273109\n",
       "0.90    0.400314\n",
       "1.00    1.550000\n",
       "dtype: float64"
      ]
     },
     "execution_count": 1072,
     "metadata": {},
     "output_type": "execute_result"
    }
   ],
   "source": [
    "dist_part_rate.quantile(q = [.05, .1, .25, .5, .75, .9, 1])"
   ]
  },
  {
   "cell_type": "markdown",
   "metadata": {},
   "source": [
    "## Math"
   ]
  },
  {
   "cell_type": "markdown",
   "metadata": {},
   "source": [
    "#### District and County MATH Scores"
   ]
  },
  {
   "cell_type": "code",
   "execution_count": 1073,
   "metadata": {},
   "outputs": [],
   "source": [
    "#new df grouping district but focusing on math score. \n",
    "dist_math = no_cal_df.groupby('district')['avg_math'].mean().sort_values(ascending = False)"
   ]
  },
  {
   "cell_type": "code",
   "execution_count": 1074,
   "metadata": {},
   "outputs": [],
   "source": [
    "#reset the index to zero\n",
    "dist_math = dist_math.reset_index()"
   ]
  },
  {
   "cell_type": "code",
   "execution_count": 1075,
   "metadata": {},
   "outputs": [],
   "source": [
    "#create a series focusing on math score grouped by district.\n",
    "dist_math_score = dist_math['avg_math']"
   ]
  },
  {
   "cell_type": "code",
   "execution_count": 1076,
   "metadata": {},
   "outputs": [],
   "source": [
    "dist_math_score;"
   ]
  },
  {
   "cell_type": "markdown",
   "metadata": {},
   "source": [
    "### Math Quantiles"
   ]
  },
  {
   "cell_type": "code",
   "execution_count": 1077,
   "metadata": {},
   "outputs": [],
   "source": [
    "#math score quantiles\n",
    "math_quant = dist_math.quantile([0, .1, .25, .5, .75, .9, 1])\n",
    "math_quant;"
   ]
  },
  {
   "cell_type": "code",
   "execution_count": 1078,
   "metadata": {},
   "outputs": [],
   "source": [
    "#create a df highlighting lowest 10 percent of districts in math\n",
    "math_10_perc = dist_math[dist_math['avg_math'] < 18]\n",
    "math_10_perc;"
   ]
  },
  {
   "cell_type": "code",
   "execution_count": 1079,
   "metadata": {},
   "outputs": [],
   "source": [
    "#create a df highlighting lowest 25 percent of districts in math\n",
    "math_25_perc = dist_math[dist_math['avg_math'] < 19.22]\n",
    "math_25_perc;"
   ]
  },
  {
   "cell_type": "markdown",
   "metadata": {},
   "source": [
    "## SCIENCE"
   ]
  },
  {
   "cell_type": "markdown",
   "metadata": {},
   "source": [
    "#### District and County SCIENCE Scores"
   ]
  },
  {
   "cell_type": "code",
   "execution_count": 1080,
   "metadata": {},
   "outputs": [],
   "source": [
    "# create a df grouped by district and focusing on science score\n",
    "dist_sci = no_cal_df.groupby('district')['avg_sci'].mean().sort_values(ascending = False)"
   ]
  },
  {
   "cell_type": "code",
   "execution_count": 1081,
   "metadata": {},
   "outputs": [],
   "source": [
    "# reset row index to 0\n",
    "dist_sci = dist_sci.reset_index();"
   ]
  },
  {
   "cell_type": "code",
   "execution_count": 1082,
   "metadata": {},
   "outputs": [],
   "source": [
    "# create a series of district science scores\n",
    "dist_sci_score = dist_sci['avg_sci']\n",
    "dist_sci_score;"
   ]
  },
  {
   "cell_type": "markdown",
   "metadata": {},
   "source": [
    "### Science Quantiles"
   ]
  },
  {
   "cell_type": "code",
   "execution_count": 1083,
   "metadata": {},
   "outputs": [],
   "source": [
    "#district science quantiles\n",
    "sci_quant = dist_sci.quantile([0, .1, .25, .5, .75, .9, 1])\n",
    "sci_quant;"
   ]
  },
  {
   "cell_type": "code",
   "execution_count": 1084,
   "metadata": {},
   "outputs": [],
   "source": [
    "# dataframe of lowest 10 percent of districts in science \n",
    "sci_10_perc = dist_sci[dist_sci['avg_sci'] < 18]\n",
    "sci_10_perc;"
   ]
  },
  {
   "cell_type": "code",
   "execution_count": 1085,
   "metadata": {},
   "outputs": [],
   "source": [
    "#Dataframe of lower 25% of districts in science\n",
    "sci_25_perc = dist_sci[dist_sci['avg_sci'] < 19.49]\n",
    "sci_25_perc;"
   ]
  },
  {
   "cell_type": "markdown",
   "metadata": {},
   "source": [
    "#### Math and Science Quantiles combined"
   ]
  },
  {
   "cell_type": "code",
   "execution_count": 1086,
   "metadata": {},
   "outputs": [],
   "source": [
    "quantiles = math_quant"
   ]
  },
  {
   "cell_type": "code",
   "execution_count": 1087,
   "metadata": {},
   "outputs": [
    {
     "data": {
      "text/html": [
       "<div>\n",
       "<style scoped>\n",
       "    .dataframe tbody tr th:only-of-type {\n",
       "        vertical-align: middle;\n",
       "    }\n",
       "\n",
       "    .dataframe tbody tr th {\n",
       "        vertical-align: top;\n",
       "    }\n",
       "\n",
       "    .dataframe thead th {\n",
       "        text-align: right;\n",
       "    }\n",
       "</style>\n",
       "<table border=\"1\" class=\"dataframe\">\n",
       "  <thead>\n",
       "    <tr style=\"text-align: right;\">\n",
       "      <th></th>\n",
       "      <th>avg_math</th>\n",
       "      <th>avg_sci</th>\n",
       "    </tr>\n",
       "  </thead>\n",
       "  <tbody>\n",
       "    <tr>\n",
       "      <th>0.00</th>\n",
       "      <td>15.000000</td>\n",
       "      <td>15.000000</td>\n",
       "    </tr>\n",
       "    <tr>\n",
       "      <th>0.10</th>\n",
       "      <td>18.000000</td>\n",
       "      <td>18.000000</td>\n",
       "    </tr>\n",
       "    <tr>\n",
       "      <th>0.25</th>\n",
       "      <td>19.222222</td>\n",
       "      <td>19.486111</td>\n",
       "    </tr>\n",
       "    <tr>\n",
       "      <th>0.50</th>\n",
       "      <td>21.895833</td>\n",
       "      <td>22.000000</td>\n",
       "    </tr>\n",
       "    <tr>\n",
       "      <th>0.75</th>\n",
       "      <td>24.000000</td>\n",
       "      <td>24.000000</td>\n",
       "    </tr>\n",
       "    <tr>\n",
       "      <th>0.90</th>\n",
       "      <td>26.000000</td>\n",
       "      <td>25.638095</td>\n",
       "    </tr>\n",
       "    <tr>\n",
       "      <th>1.00</th>\n",
       "      <td>30.200000</td>\n",
       "      <td>29.200000</td>\n",
       "    </tr>\n",
       "  </tbody>\n",
       "</table>\n",
       "</div>"
      ],
      "text/plain": [
       "       avg_math    avg_sci\n",
       "0.00  15.000000  15.000000\n",
       "0.10  18.000000  18.000000\n",
       "0.25  19.222222  19.486111\n",
       "0.50  21.895833  22.000000\n",
       "0.75  24.000000  24.000000\n",
       "0.90  26.000000  25.638095\n",
       "1.00  30.200000  29.200000"
      ]
     },
     "execution_count": 1087,
     "metadata": {},
     "output_type": "execute_result"
    }
   ],
   "source": [
    "quantiles['avg_sci'] = sci_quant['avg_sci']\n",
    "quantiles"
   ]
  },
  {
   "cell_type": "markdown",
   "metadata": {},
   "source": [
    "### Create profiles Highlighting \"Trouble Ten\" districts who were worst 10 percent in both math and science. "
   ]
  },
  {
   "cell_type": "code",
   "execution_count": 1088,
   "metadata": {},
   "outputs": [],
   "source": [
    "#list of districts that are in both the bottom 10 percent in math and science.\n",
    "def dub_trub_finder(math_quant, sci_quant):\n",
    "    double_trouble = []\n",
    "    for value in math_quant:\n",
    "        for value2 in sci_quant:\n",
    "            if value == value2:\n",
    "                double_trouble.append(value)\n",
    "    return double_trouble"
   ]
  },
  {
   "cell_type": "code",
   "execution_count": 1089,
   "metadata": {},
   "outputs": [],
   "source": [
    "#schools that are in bottom 10 percent in both math and science. \n",
    "troubled_10 = dub_trub_finder(math_10_perc['district'], sci_10_perc['district'])\n",
    "troubled_10;"
   ]
  },
  {
   "cell_type": "code",
   "execution_count": 1090,
   "metadata": {},
   "outputs": [
    {
     "data": {
      "text/plain": [
       "21"
      ]
     },
     "execution_count": 1090,
     "metadata": {},
     "output_type": "execute_result"
    }
   ],
   "source": [
    "len(troubled_10)"
   ]
  },
  {
   "cell_type": "code",
   "execution_count": 1091,
   "metadata": {},
   "outputs": [
    {
     "data": {
      "text/plain": [
       "78"
      ]
     },
     "execution_count": 1091,
     "metadata": {},
     "output_type": "execute_result"
    }
   ],
   "source": [
    "#schools that are in bottom 25 percent in both math and science\n",
    "troubled_25 = dub_trub_finder(math_25_perc['district'], sci_25_perc['district'])\n",
    "len(troubled_25)"
   ]
  },
  {
   "cell_type": "code",
   "execution_count": 1092,
   "metadata": {},
   "outputs": [
    {
     "data": {
      "text/plain": [
       "344"
      ]
     },
     "execution_count": 1092,
     "metadata": {},
     "output_type": "execute_result"
    }
   ],
   "source": [
    "len(dist_df)"
   ]
  },
  {
   "cell_type": "code",
   "execution_count": 1093,
   "metadata": {},
   "outputs": [],
   "source": [
    "#function that takes in a district series, a county series and a smaller list of highlights\n",
    "# returns districts and counties zipped together in a dictionary\n",
    "def cnty_finder(dist, county, dist_lst):\n",
    "    county_list = [] #create a list that will take in a series of counties\n",
    "    districts = [] # create a list that will take in name of districts from a list\n",
    "    for i in dist.index: #iterate through index of district series\n",
    "        for item in dist_lst: #iterate through list of districts\n",
    "            if dist[i] == item: #boolean if district name in series equals district name in list\n",
    "                county_list.append(county[i]) # add county to list\n",
    "                districts.append(item) # add district to list\n",
    "    return dict(zip(districts, county_list)) #dict, zip the two lists together to create a dictionary. "
   ]
  },
  {
   "cell_type": "code",
   "execution_count": 1094,
   "metadata": {},
   "outputs": [],
   "source": [
    "#dictionary of troubled ten districts and counties\n",
    "troubled_10_counties = cnty_finder(ca_df['district'], ca_df['county'], troubled_10)\n",
    "troubled_10_counties;"
   ]
  },
  {
   "cell_type": "code",
   "execution_count": 1095,
   "metadata": {},
   "outputs": [],
   "source": [
    "def enroll_finder(dist, enroll, dist_list): #taking a series as dist and enroll and a seperate list\n",
    "    enroll_list = [] # create a list that takes in dist enroll value\n",
    "    districts = [] # create a list that takes in district name\n",
    "    for i in dist.index: #iterate through index labels\n",
    "        for item in dist_list: #iterate through district names\n",
    "            if dist[i] == item: #matching individual values in dist series with individual values in dist_list\n",
    "                enroll_list.append(enroll[i]) #adding individual enrollment values to list\n",
    "                districts.append(item) #adding individual districts to list\n",
    "    return dict(zip(districts, enroll_list)) #creating a dictionary by zipping together the two lists"
   ]
  },
  {
   "cell_type": "code",
   "execution_count": 1096,
   "metadata": {},
   "outputs": [],
   "source": [
    "# dictionary of troubled 10 district and enrollment numbers\n",
    "troubled_10_enroll = enroll_finder(dist_df['district'], dist_df['g12_enroll'], troubled_10)\n",
    "troubled_10_enroll;"
   ]
  },
  {
   "cell_type": "code",
   "execution_count": 1097,
   "metadata": {},
   "outputs": [
    {
     "data": {
      "text/plain": [
       "0.00       20.0\n",
       "0.10      133.3\n",
       "0.25      229.5\n",
       "0.50      592.0\n",
       "0.75     1352.0\n",
       "0.90     2377.1\n",
       "1.00    31571.0\n",
       "Name: g12_enroll, dtype: float64"
      ]
     },
     "execution_count": 1097,
     "metadata": {},
     "output_type": "execute_result"
    }
   ],
   "source": [
    "#quantiles of district enrollment\n",
    "dist_df['g12_enroll'].quantile([0, .1, .25, .5, .75, .9, 1])"
   ]
  },
  {
   "cell_type": "markdown",
   "metadata": {},
   "source": [
    "### Trouble Enrollment DataFrame"
   ]
  },
  {
   "cell_type": "code",
   "execution_count": 1098,
   "metadata": {},
   "outputs": [],
   "source": [
    "#make a DataFrame out of trouble dictionary. \n",
    "trouble_enroll_df = pd.DataFrame(list(troubled_10_enroll.items()), columns = ['District', 'g12_enroll'])"
   ]
  },
  {
   "cell_type": "code",
   "execution_count": 1099,
   "metadata": {},
   "outputs": [
    {
     "data": {
      "text/plain": [
       "g12_enroll    457.095238\n",
       "dtype: float64"
      ]
     },
     "execution_count": 1099,
     "metadata": {},
     "output_type": "execute_result"
    }
   ],
   "source": [
    "#mean enrollment for troubled 10 districts. \n",
    "trbl_mean_enroll = trouble_enroll_df.sort_values(by = 'g12_enroll').mean()\n",
    "trbl_mean_enroll"
   ]
  },
  {
   "cell_type": "code",
   "execution_count": 1100,
   "metadata": {},
   "outputs": [
    {
     "data": {
      "text/plain": [
       "1098.2005813953488"
      ]
     },
     "execution_count": 1100,
     "metadata": {},
     "output_type": "execute_result"
    }
   ],
   "source": [
    "#mean enrollment for all districts\n",
    "dist_mean_enroll = dist_df['g12_enroll'].mean()\n",
    "dist_mean_enroll"
   ]
  },
  {
   "cell_type": "markdown",
   "metadata": {},
   "source": [
    "### Troubled 10 mean enrollment is almost 2.5 times lower than district mean size. "
   ]
  },
  {
   "cell_type": "code",
   "execution_count": 1101,
   "metadata": {},
   "outputs": [
    {
     "data": {
      "text/plain": [
       "g12_enroll    0.416222\n",
       "dtype: float64"
      ]
     },
     "execution_count": 1101,
     "metadata": {},
     "output_type": "execute_result"
    }
   ],
   "source": [
    "#troubled districts have a mean enrollment that is only 42% the size of the average district. \n",
    "trbl_mean_enroll / dist_mean_enroll"
   ]
  },
  {
   "cell_type": "code",
   "execution_count": 1102,
   "metadata": {},
   "outputs": [
    {
     "data": {
      "text/plain": [
       "2.4390243902439024"
      ]
     },
     "execution_count": 1102,
     "metadata": {},
     "output_type": "execute_result"
    }
   ],
   "source": [
    "100/41"
   ]
  },
  {
   "cell_type": "markdown",
   "metadata": {},
   "source": [
    "## 21 PLUS"
   ]
  },
  {
   "cell_type": "markdown",
   "metadata": {},
   "source": [
    "#### District and County 21 PLUS Percentages"
   ]
  },
  {
   "cell_type": "code",
   "execution_count": 1103,
   "metadata": {},
   "outputs": [],
   "source": [
    "# create a series of districts and 21 percent plus scoring.\n",
    "dist_21 = no_cal_df.groupby('district')['pct_21_plus'].mean().sort_values(ascending = False)"
   ]
  },
  {
   "cell_type": "code",
   "execution_count": 1104,
   "metadata": {},
   "outputs": [],
   "source": [
    "dist_21;"
   ]
  },
  {
   "cell_type": "markdown",
   "metadata": {},
   "source": [
    "## Visualize the Data\n",
    "\n",
    "There's not a magic bullet recommendation for the right number of plots to understand a given dataset, but visualizing your data is *always* a good idea. Not only does it allow you to quickly convey your findings (even if you have a non-technical audience), it will often reveal trends in your data that escaped you when you were looking only at numbers. It is important to not only create visualizations, but to **interpret your visualizations** as well.\n",
    "\n",
    "**Every plot should**:\n",
    "- Have a title\n",
    "- Have axis labels\n",
    "- Have appropriate tick labels\n",
    "- Text is legible in a plot\n",
    "- Plots demonstrate meaningful and valid relationships\n",
    "- Have an interpretation to aid understanding\n",
    "\n",
    "Here is an example of what your plots should look like following the above guidelines. Note that while the content of this example is unrelated, the principles of visualization hold:\n",
    "\n",
    "![](https://snag.gy/hCBR1U.jpg)\n",
    "*Interpretation: The above image shows that as we increase our spending on advertising, our sales numbers also tend to increase. There is a positive correlation between advertising spending and sales.*\n",
    "\n",
    "---\n",
    "\n",
    "Here are some prompts to get you started with visualizations. Feel free to add additional visualizations as you see fit:\n",
    "1. Use Seaborn's heatmap with pandas `.corr()` to visualize correlations between all numeric features.\n",
    "    - Heatmaps are generally not appropriate for presentations, and should often be excluded from reports as they can be visually overwhelming. **However**, they can be extremely useful in identify relationships of potential interest (as well as identifying potential collinearity before modeling).\n",
    "    - Please take time to format your output, adding a title. Look through some of the additional arguments and options. (Axis labels aren't really necessary, as long as the title is informative).\n",
    "2. Visualize distributions using histograms. If you have a lot, consider writing a custom function and use subplots.\n",
    "    - *OPTIONAL*: Summarize the underlying distributions of your features (in words & statistics)\n",
    "         - Be thorough in your verbal description of these distributions.\n",
    "         - Be sure to back up these summaries with statistics.\n",
    "         - We generally assume that data we sample from a population will be normally distributed. Do we observe this trend? Explain your answers for each distribution and how you think this will affect estimates made from these data.\n",
    "3. Plot and interpret boxplots. \n",
    "    - Boxplots demonstrate central tendency and spread in variables. In a certain sense, these are somewhat redundant with histograms, but you may be better able to identify clear outliers or differences in IQR, etc.\n",
    "    - Multiple values can be plotted to a single boxplot as long as they are of the same relative scale (meaning they have similar min/max values).\n",
    "    - Each boxplot should:\n",
    "        - Only include variables of a similar scale\n",
    "        - Have clear labels for each variable\n",
    "        - Have appropriate titles and labels\n",
    "4. Plot and interpret scatter plots to view relationships between features. Feel free to write a custom function, and subplot if you'd like. Functions save both time and space.\n",
    "    - Your plots should have:\n",
    "        - Two clearly labeled axes\n",
    "        - A proper title\n",
    "        - Colors and symbols that are clear and unmistakable\n",
    "5. Additional plots of your choosing.\n",
    "    - Are there any additional trends or relationships you haven't explored? Was there something interesting you saw that you'd like to dive further into? It's likely that there are a few more plots you might want to generate to support your narrative and recommendations that you are building toward. **As always, make sure you're interpreting your plots as you go**."
   ]
  },
  {
   "cell_type": "markdown",
   "metadata": {},
   "source": [
    "# Compendium of Analysis of Plots and Charts\n",
    "\n",
    "##### Interpretation of Histogram of Average Science Scores per School in California\n",
    "* California does better on average than the national average. \n",
    "* There are still a good amount of schools that fall below the national average. \n",
    "* The histogram is normally distributed. \n",
    "* It appears that high achievers are slightly pulling the average up. \n",
    "\n",
    "##### Interpretation of Histogram For Average Math Score per School in California\n",
    "* See above interpretation of Science score. They're almost identical. \n",
    "\n",
    "##### Interpreting Boxplot of Average Math and Science Scores for State of Calfornia\n",
    "* Follows a similar pattern to the above histogram.\n",
    "* The variance between science and math is pretty similar but the max and min score for science is lower than math. \n",
    "\n",
    "##### Analysis Regression plots of math scores and percentage of students scoring 21 plus. \n",
    "* Theres a strong linear relationship between the two. This makes sense as average math score plays into final score. \n",
    "* There are two key areas where the math score jumps off the regression line. Schools that have around 10% of tested students scoring 21 plus and schools that have around 90 percent of students scoring 21 plus. \n",
    "* This is an interesting relationship. One thought about this is that schools with lower percentages of 21 plus scores have a few students who excel in relation to the rest of participating students. They are likely driving up the average for that school. \n",
    "* One possible explanation for schools with high 21 plus percentages and higher average math scores is the tech school. Technical High Schools or schools that focus on stem type subjects may have a much higher percentage of students interested in pursuing higher education and are more stem inclined. Therefore a higher percentage of students not only achieve higher on overall score but on math as well. \n",
    "\n",
    "##### Analysis of Scatter and Regression Plots of District Participation Rates and District Math Scores\n",
    "* As participation rates get higher scores slightly diminish\n",
    "* There are a few outliers in participation that exceed 100 percent. Need to find out why. Are they affecting overall numbers? \n",
    "* The vast majority of schools have a less than 40 percent participation rate.\n",
    "* Schools that exceed a 80 percent participation seem to score mostly higher than the mean. \n",
    "\n",
    "##### Analysis of Regression Plots of District Participation Rates and District Math Scores\n",
    "* Seems to follow a similar pattern to math chart. \n",
    "* There is a little less of a jump off regression in the lower percentages and perhaps a slightly higher jump off regression in the higher percentage scoring 21 plus. \n",
    "* This could indicate that science may be a subject where people can boost thier chances at achieving 21 plus on the ACT. \n",
    "\n",
    "##### Analysis of Regression Plot of District Participation Rates and District Math Scores\n",
    "* Not surprisingly this is nearly identical to math plots above. Same Analysis applies\n",
    "\n",
    "##### Analysis of Regression Plot of District Enrollment and District Science Scores\n",
    "\n",
    "* This plot shows a very small relationship with enrollment size and average science score\n",
    "* However, there is a large outlier that may be affectiont the relationship\n",
    "* There's a large grouping under 10,000 so it will be necessary to remove the outlier.\n",
    "\n",
    "##### Analysis of Regression Plot for Los Angeles Unified Enrollment and Average Science Score\n",
    "\n",
    "* Inside LAU District the score increases as size of school increases. The many smaller schools drive the average score down. I am imagining this has something to do with small charter schools in lower SES areas. \n",
    "* If you were to remove the largest five school the mean math score for the district would dive to even lower levels. \n",
    "\n",
    "##### Analysis for Regression Plot for District Without LAU District\n",
    "* The top ten schools struggle to meet the mean score but the 1,000 to 4,000 student districts pick the score up a bit. \n",
    "* This is interesting because LAU seems to have a moderating effect on the average score but when you eliminate LAU the larger districts seem to drag the average down a bit.\n",
    "\n",
    "##### THIS MAY BE MEANINGFUL: Analysis for Scatter and Regression Plots Focusing on Schools Under 3500 12th Grade Enrollment\n",
    "* Districts under 3500 g12 enrollment actually see an increase in scores as enrollment numbers go up. \n",
    "* This is converse to the plot including the larger districts which drags science scores down as g12_enrollment goes up.\n",
    "\n"
   ]
  },
  {
   "cell_type": "markdown",
   "metadata": {},
   "source": [
    "__________________\n",
    "## Heatmap"
   ]
  },
  {
   "cell_type": "code",
   "execution_count": 1105,
   "metadata": {},
   "outputs": [
    {
     "data": {
      "image/png": "[encoded data removed]",
      "text/plain": [
       "<Figure size 864x576 with 2 Axes>"
      ]
     },
     "metadata": {
      "needs_background": "light"
     },
     "output_type": "display_data"
    }
   ],
   "source": [
    "#create lists to populate xtick labels\n",
    "xticks = ['Enrollment', 'Num. Tested', 'Read Avg.', 'Eng Avg.', 'Math Avg.', 'Sci Avg.', 'Num 21 Plus', 'Pct 21 Plus']\n",
    "yticks = ['Enrollment', 'Num. Tested', 'Read Avg.', 'Eng Avg.', 'Math Avg.', 'Sci Avg.', 'Num 21 Plus', 'Pct 21 Plus']\n",
    " \n",
    "#Change plot size\n",
    "plt.figure(figsize = (12, 8))\n",
    "\n",
    "#create seaborn heatmap of act correlation data from act_corr.  annot=True\n",
    "sns.heatmap(\n",
    "            no_cal_df_corr, annot=True, cmap = 'viridis', \n",
    "            linewidths = .5,\n",
    "            xticklabels = xticks,\n",
    "            yticklabels = yticks\n",
    "            ).set_title('Correlation of Average ACT Scores, Participation Rate and Years 2017 and 2019');\n",
    "\n",
    "#How to add xticks and yticks to Seaborn Heatmap: https://stackoverflow.com/questions/40734343/artificial-tick-labels-for-seaborn-heatmaps\n",
    "#How to set title on Seaborn Heatmap: https://www.xspdf.com/resolution/51559490.html\n"
   ]
  },
  {
   "cell_type": "markdown",
   "metadata": {},
   "source": [
    "#### Interpretation of Heatmap\n",
    "\n",
    "* Really not much to interpret here. Everything that should have some correlation seems to be correlation. "
   ]
  },
  {
   "cell_type": "markdown",
   "metadata": {},
   "source": [
    "______________________________________________________\n",
    "## Histograms"
   ]
  },
  {
   "cell_type": "markdown",
   "metadata": {},
   "source": [
    "______________\n",
    "### Histogram of Average Science Scores per School in California\n",
    "______________"
   ]
  },
  {
   "cell_type": "code",
   "execution_count": 1106,
   "metadata": {},
   "outputs": [
    {
     "data": {
      "image/png": "[encoded data removed]",
      "text/plain": [
       "<Figure size 864x576 with 1 Axes>"
      ]
     },
     "metadata": {
      "needs_background": "light"
     },
     "output_type": "display_data"
    }
   ],
   "source": [
    "# this plot was originally inspired by the lesson in eda. I then did a bunch of research on \n",
    "# changing parameters and just started messing around with stuff. \n",
    "# here is the site that I got parameter ideas from. Mostly I was just playing around with things though. \n",
    "# https://www.programcreek.com/python/example/102357/matplotlib.pyplot.xticks\n",
    "# I also had to change alot of the parameter colors to white for the sake of the presentation and then had to change back\n",
    "\n",
    "no_cal_df['avg_sci'].plot(kind = 'hist', color = \"gold\",\n",
    "                      label = 'Distribution of Science Score Per School',\n",
    "                       edgecolor = 'white', figsize = (12, 8), \n",
    "                       fontsize = 15, linewidth = 1, bins = 20, \n",
    "                       density = True).set_title('Average Science Score on ACT per School in California', color = 'black', size = 25)\n",
    "#plot x and y labels\n",
    "plt.xlabel('Science Score', color = 'black', size = 20)\n",
    "plt.ylabel('Frequency', color = 'black', size = 20)\n",
    "plt.xticks(color = 'black', size = 25)\n",
    "plt.yticks(color = 'black', size = 15)\n",
    "\n",
    "#plot Ca state average on a vertical axis line\n",
    "plt.axvline(22.2, color='blue', linestyle = 'solid', \n",
    "linewidth = 3, label = 'Average Score Statewide: 22.2')\n",
    "\n",
    "#plot National average on a vertical axis line. \n",
    "#pulled the 20.6 number from the national dataframe\n",
    "plt.axvline(20.6, color='red', linestyle = 'solid', \n",
    "linewidth = 3, label = 'Average Score Nationally: 20.6')\n",
    "plt.legend(fontsize = 'large', loc = 'best' );\n",
    "\n"
   ]
  },
  {
   "cell_type": "markdown",
   "metadata": {},
   "source": [
    "### Interpretation of Histogram of Average Science Scores per School in California\n",
    "* California does better on average than the national average. \n",
    "* There are still a good amount of schools that fall below the national average. \n",
    "* The histogram is normally distributed. \n",
    "* It appears that high achievers are slightly pulling the average up. "
   ]
  },
  {
   "cell_type": "markdown",
   "metadata": {},
   "source": [
    "______________\n",
    "### Histogram of Average Math Scores per School in California\n",
    "____________"
   ]
  },
  {
   "cell_type": "code",
   "execution_count": 1107,
   "metadata": {},
   "outputs": [
    {
     "data": {
      "image/png": "[encoded data removed]",
      "text/plain": [
       "<Figure size 864x576 with 1 Axes>"
      ]
     },
     "metadata": {
      "needs_background": "light"
     },
     "output_type": "display_data"
    }
   ],
   "source": [
    "#basically re-did everything in the above plot here. changed the data.\n",
    "no_cal_df['avg_sci'].plot(kind = 'hist', color = \"mediumseagreen\",\n",
    "                      label = 'Distribution of Math Score Per School',\n",
    "                       edgecolor = 'black', figsize = (12, 8), \n",
    "                       fontsize = 15, linewidth = 1, bins = 20, \n",
    "                       density = True).set_title('Average Math Score on ACT per School in California', color = 'black', size = 25)\n",
    "# set x and y labels\n",
    "plt.xlabel('Math Score', color = 'black', size = 20)\n",
    "plt.ylabel('Frequency', color = 'black', size = 20)\n",
    "\n",
    "# set x and y ticks\n",
    "plt.xticks(color = 'black', size = 25)\n",
    "plt.yticks(color = 'black', size = 15)\n",
    "\n",
    "#plot Ca state average on a vertical axis line\n",
    "plt.axvline(22.2, color='blue', linestyle = 'solid', \n",
    "linewidth = 3, label = 'Average Score Statewide: 22.2')\n",
    "\n",
    "#plot National average on a vertical axis line. \n",
    "#pulled the 20.4 number from the national ACT dataframe\n",
    "plt.axvline(20.4, color='red', linestyle = 'solid', \n",
    "linewidth = 3, label = 'Average Score Nationally: 20.4')\n",
    "plt.legend(fontsize = 'large', loc = 'best' );\n"
   ]
  },
  {
   "cell_type": "markdown",
   "metadata": {},
   "source": [
    "### Interpretation of Histogram For Average Math Score per School in California\n",
    "* See above interpretation of Science score. They're almost identical. "
   ]
  },
  {
   "cell_type": "markdown",
   "metadata": {},
   "source": [
    "## Boxplots"
   ]
  },
  {
   "cell_type": "markdown",
   "metadata": {},
   "source": [
    "__________________\n",
    "### Boxplot of Average Math and Science Scores Per School in State of CA\n",
    "__________________"
   ]
  },
  {
   "cell_type": "code",
   "execution_count": 1108,
   "metadata": {},
   "outputs": [
    {
     "data": {
      "image/png": "[encoded data removed]",
      "text/plain": [
       "<Figure size 432x288 with 1 Axes>"
      ]
     },
     "metadata": {
      "needs_background": "light"
     },
     "output_type": "display_data"
    }
   ],
   "source": [
    "sns.boxenplot(data = quantiles).set_title('Quantile Box Plot for District Average Math and Science Scores', color = 'white', size = 10)\n",
    "\n",
    "plt.xlabel('ACT Subtest Type', color = 'black')\n",
    "plt.ylabel('Avg Math and Science Score', color = 'black')\n",
    "\n",
    "plt.yticks(size = 10, color = 'black')\n",
    "plt.xticks(size = 10, color = 'black');\n",
    "\n",
    "# https://seaborn.pydata.org/generated/seaborn.boxenplot.html"
   ]
  },
  {
   "cell_type": "markdown",
   "metadata": {},
   "source": [
    "### Interpreting Boxplot of Average Math and Science Scores for State of Calfornia\n",
    "* Follows a similar pattern to the above histogram.\n",
    "* The variance between science and math is pretty similar but the max and min score for science is lower than math. "
   ]
  },
  {
   "cell_type": "markdown",
   "metadata": {},
   "source": [
    "# Scatter and Regression plots"
   ]
  },
  {
   "cell_type": "markdown",
   "metadata": {},
   "source": [
    "### Scatterplot"
   ]
  },
  {
   "cell_type": "markdown",
   "metadata": {},
   "source": [
    "#### Regression plots of math scores and percentage of students scoring 21 plus"
   ]
  },
  {
   "cell_type": "code",
   "execution_count": 1109,
   "metadata": {},
   "outputs": [
    {
     "data": {
      "image/png": "[encoded data removed]",
      "text/plain": [
       "<Figure size 432x288 with 1 Axes>"
      ]
     },
     "metadata": {
      "needs_background": "light"
     },
     "output_type": "display_data"
    }
   ],
   "source": [
    "sns.regplot(data = no_cal_df, \n",
    "            x = dist_21, \n",
    "            y = dist_math_score,\n",
    "            scatter = True,\n",
    "            color = 'mediumseagreen',\n",
    "            x_jitter = 1,\n",
    "            y_jitter = 1).set_title('Regression of District Avg for Math and Percent Score over 21');\n",
    "\n",
    "plt.xlabel('Percent Scoring over 21')\n",
    "plt.ylabel('Average Math Score');"
   ]
  },
  {
   "cell_type": "markdown",
   "metadata": {},
   "source": [
    "#### Analysis Regression plots of math scores and percentage of students scoring 21 plus. \n",
    "* Theres a strong linear relationship between the two. This makes sense as average math score plays into final score. \n",
    "* There are two key areas where the math score jumps off the regression line. Schools that have around 10% of tested students scoring 21 plus and schools that have around 90 percent of students scoring 21 plus. \n",
    "* This is an interesting relationship. One thought about this is that schools with lower percentages of 21 plus scores have a few students who excel in relation to the rest of participating students. They are likely driving up the average for that school. \n",
    "* One possible explanation for schools with high 21 plus percentages and higher average math scores is the tech school. Technical High Schools or schools that focus on stem type subjects may have a much higher percentage of students interested in pursuing higher education and are more stem inclined. Therefore a higher percentage of students not only achieve higher on overall score but on math as well. "
   ]
  },
  {
   "cell_type": "markdown",
   "metadata": {},
   "source": [
    "#### Scatter and Regression Plots of District Participation Rates and District Math Scores"
   ]
  },
  {
   "cell_type": "code",
   "execution_count": 1110,
   "metadata": {},
   "outputs": [
    {
     "data": {
      "image/png": "[encoded data removed]",
      "text/plain": [
       "<Figure size 432x288 with 1 Axes>"
      ]
     },
     "metadata": {
      "needs_background": "light"
     },
     "output_type": "display_data"
    }
   ],
   "source": [
    "sns.scatterplot(data = no_cal_df, \n",
    "                x = dist_part_rate, \n",
    "                y = dist_math_score, \n",
    "                color = 'mediumseagreen').set_title('District Participation Rate and District Avg. Math Score')\n",
    "plt.xlabel('Participation Rate')\n",
    "plt.ylabel('Average Math Score');"
   ]
  },
  {
   "cell_type": "code",
   "execution_count": 1111,
   "metadata": {},
   "outputs": [
    {
     "data": {
      "image/png": "[encoded data removed]",
      "text/plain": [
       "<Figure size 432x288 with 1 Axes>"
      ]
     },
     "metadata": {
      "needs_background": "light"
     },
     "output_type": "display_data"
    }
   ],
   "source": [
    "sns.regplot(data = no_cal_df, \n",
    "            x = dist_part_rate, \n",
    "            y = dist_math_score, \n",
    "            color = 'mediumseagreen').set_title('District Participation Rate and District Avg Math Score')\n",
    "plt.xlabel('Participation Rate')\n",
    "plt.ylabel('Average Math Score');"
   ]
  },
  {
   "cell_type": "markdown",
   "metadata": {},
   "source": [
    "#### Analysis of Scatter and Regression Plots of District Participation Rates and District Math Scores\n",
    "* As participation rates get higher scores slightly diminish\n",
    "* There are a few outliers in participation that exceed 100 percent. Need to find out why. Are they affecting overall numbers? \n",
    "* The vast majority of schools have a less than 40 percent participation rate.\n",
    "* Schools that exceed a 80 percent participation seem to score mostly higher than the mean. "
   ]
  },
  {
   "cell_type": "markdown",
   "metadata": {},
   "source": [
    "#### Regression Plot of Science Scores and Students Scoring 21 plus overall"
   ]
  },
  {
   "cell_type": "code",
   "execution_count": 1112,
   "metadata": {},
   "outputs": [
    {
     "data": {
      "image/png": "[encoded data removed]",
      "text/plain": [
       "<Figure size 432x288 with 1 Axes>"
      ]
     },
     "metadata": {
      "needs_background": "light"
     },
     "output_type": "display_data"
    }
   ],
   "source": [
    "sns.regplot(data = no_cal_df,\n",
    "            x = dist_21,\n",
    "            y = dist_sci_score,\n",
    "            color = 'gold').set_title('Students Scoring 21 Plus on Act and Average Science Score')\n",
    "\n",
    "plt.xlabel('Percent of Students Scoring 21 Plus on ACT')\n",
    "plt.ylabel('Average Science Score');"
   ]
  },
  {
   "cell_type": "markdown",
   "metadata": {},
   "source": [
    "#### Analysis of Regression Plots of District Participation Rates and District Math Scores\n",
    "* Seems to follow a similar pattern to math chart. \n",
    "* There is a little less of a jump off regression in the lower percentages and perhaps a slightly higher jump off regression in the higher percentage scoring 21 plus. \n",
    "* This could indicate that science may be a subject where people can boost thier chances at achieving 21 plus on the ACT. "
   ]
  },
  {
   "cell_type": "markdown",
   "metadata": {},
   "source": [
    "#### Scatter and Regression Plots of District Participation Rates and District Science Scores"
   ]
  },
  {
   "cell_type": "code",
   "execution_count": 1113,
   "metadata": {},
   "outputs": [
    {
     "data": {
      "image/png": "[encoded data removed]",
      "text/plain": [
       "<Figure size 432x288 with 1 Axes>"
      ]
     },
     "metadata": {
      "needs_background": "light"
     },
     "output_type": "display_data"
    }
   ],
   "source": [
    "sns.scatterplot(data = no_cal_df, \n",
    "                x = dist_part_rate, \n",
    "                y = dist_sci_score, \n",
    "                color = 'gold').set_title('District Participation Rate and District Avg Science Score')\n",
    "\n",
    "plt.xlabel('Participation Rate')\n",
    "plt.ylabel('Average Science Score');"
   ]
  },
  {
   "cell_type": "code",
   "execution_count": 1114,
   "metadata": {},
   "outputs": [
    {
     "data": {
      "image/png": "[encoded data removed]",
      "text/plain": [
       "<Figure size 432x288 with 1 Axes>"
      ]
     },
     "metadata": {
      "needs_background": "light"
     },
     "output_type": "display_data"
    }
   ],
   "source": [
    "sns.regplot(data = no_cal_df, \n",
    "            x = dist_part_rate, \n",
    "            y = dist_sci_score, \n",
    "            color = 'gold').set_title('District Participation Rate and District Avg Science Score')\n",
    "\n",
    "plt.xlabel('Participation Rate')\n",
    "plt.ylabel('Average Science Score');"
   ]
  },
  {
   "cell_type": "markdown",
   "metadata": {},
   "source": [
    "#### Analysis of Regression Plot of District Participation Rates and District Math Scores\n",
    "* Not surprisingly this is nearly identical to math plots above. Same Analysis applies"
   ]
  },
  {
   "cell_type": "markdown",
   "metadata": {},
   "source": [
    "### Regression Plot of District Enrollment and District Science Scores"
   ]
  },
  {
   "cell_type": "code",
   "execution_count": 1115,
   "metadata": {},
   "outputs": [
    {
     "data": {
      "image/png": "[encoded data removed]",
      "text/plain": [
       "<Figure size 432x288 with 1 Axes>"
      ]
     },
     "metadata": {
      "needs_background": "light"
     },
     "output_type": "display_data"
    }
   ],
   "source": [
    "sns.regplot(data = no_cal_df, \n",
    "            x = dist_df['g12_enroll'],\n",
    "            y = dist_sci_score,\n",
    "            color = 'gold').set_title('District 12th Grade Enrollmet and Avg Science Scores')\n",
    "plt.xlabel('12th Grade Enrollment')\n",
    "plt.ylabel('Average Science Score');"
   ]
  },
  {
   "cell_type": "markdown",
   "metadata": {},
   "source": [
    "#### Analysis of Regression Plot of District Enrollment and District Science Scores\n",
    "\n",
    "* This plot shows a very small relationship with enrollment size and average science score\n",
    "* However, there is a large outlier that may be affectiont the relationship\n",
    "* There's a large grouping under 10,000 so it will be necessary to remove the outlier."
   ]
  },
  {
   "cell_type": "markdown",
   "metadata": {},
   "source": [
    "### Regression Plot for Los Angeles Unified Enrollment and Average Science Score"
   ]
  },
  {
   "cell_type": "code",
   "execution_count": 1116,
   "metadata": {},
   "outputs": [],
   "source": [
    "#create a df without the large outlier district\n",
    "no_cal_df.groupby('district')['g12_enroll'].sum().sort_values(ascending = False)\n",
    "no_lau = no_cal_df[no_cal_df['district'] != 'Los Angeles Unified']"
   ]
  },
  {
   "cell_type": "code",
   "execution_count": 1117,
   "metadata": {},
   "outputs": [],
   "source": [
    "#create a df with only large outlier district\n",
    "yes_lau = no_cal_df[no_cal_df['district'] == 'Los Angeles Unified']\n",
    "yes_lau;"
   ]
  },
  {
   "cell_type": "code",
   "execution_count": 1118,
   "metadata": {},
   "outputs": [
    {
     "data": {
      "image/png": "[encoded data removed]",
      "text/plain": [
       "<Figure size 432x288 with 1 Axes>"
      ]
     },
     "metadata": {
      "needs_background": "light"
     },
     "output_type": "display_data"
    }
   ],
   "source": [
    "sns.regplot(data = yes_lau, \n",
    "            x = yes_lau['g12_enroll'], \n",
    "            y = yes_lau['avg_sci'], \n",
    "            color = 'gold').set_title('Regression of Schools within LAU')\n",
    "plt.xlabel('12th Grade Enrollment')\n",
    "plt.ylabel('Average Science Score');"
   ]
  },
  {
   "cell_type": "code",
   "execution_count": 1119,
   "metadata": {},
   "outputs": [
    {
     "data": {
      "image/png": "[encoded data removed]",
      "text/plain": [
       "<Figure size 432x288 with 1 Axes>"
      ]
     },
     "metadata": {
      "needs_background": "light"
     },
     "output_type": "display_data"
    }
   ],
   "source": [
    "sns.regplot(data = yes_lau, \n",
    "            x = yes_lau['g12_enroll'], \n",
    "            y = yes_lau['avg_math'], \n",
    "            color = 'mediumseagreen').set_title('LAU Enrollment and Math Scores', color = 'black', size = '20')\n",
    "\n",
    "plt.xlabel('12th Grade Enrollment Per School', color = 'black')\n",
    "plt.ylabel('Average Math Score Per School', color = 'black')\n",
    "\n",
    "plt.yticks(size = 10, color = 'black')\n",
    "plt.xticks(size = 10, color = 'black');\n"
   ]
  },
  {
   "cell_type": "markdown",
   "metadata": {},
   "source": [
    "#### Analysis of Regression Plot for Los Angeles Unified Enrollment and Average Science Score\n",
    "\n",
    "* Inside LAU District the score increases as size of school increases. The many smaller schools drive the average score down. I am imagining this has something to do with small charter schools in lower SES areas. \n",
    "* If you were to remove the largest five school the mean math score for the district would dive to even lower levels. "
   ]
  },
  {
   "cell_type": "markdown",
   "metadata": {},
   "source": [
    "### Regression Plot for District Without LAU District"
   ]
  },
  {
   "cell_type": "code",
   "execution_count": 1120,
   "metadata": {},
   "outputs": [],
   "source": [
    "# g12_enrollment grouped by district without large outlier\n",
    "no_lau_dist_enroll = no_lau.groupby('district')['g12_enroll'].sum()"
   ]
  },
  {
   "cell_type": "code",
   "execution_count": 1121,
   "metadata": {},
   "outputs": [],
   "source": [
    "no_lau_dist_sci = no_lau.groupby('district')['avg_sci'].mean()"
   ]
  },
  {
   "cell_type": "code",
   "execution_count": 1122,
   "metadata": {},
   "outputs": [
    {
     "data": {
      "image/png": "[encoded data removed]",
      "text/plain": [
       "<Figure size 432x288 with 1 Axes>"
      ]
     },
     "metadata": {
      "needs_background": "light"
     },
     "output_type": "display_data"
    }
   ],
   "source": [
    "sns.regplot(data = no_lau,\n",
    "            x = no_lau_dist_enroll,\n",
    "            y = no_lau_dist_sci,\n",
    "            color = 'gold').set_title('District Enrollment and Average Science Score Without LAU')\n",
    "\n",
    "plt.xlabel('District 12th Grade Enrollment')\n",
    "plt.ylabel('District Average Science Score');"
   ]
  },
  {
   "cell_type": "markdown",
   "metadata": {},
   "source": [
    "#### Analysis for Regression Plot for District Without LAU District\n",
    "* The top ten schools struggle to meet the mean score but the 1,000 to 4,000 student districts pick the score up a bit. \n",
    "* This is interesting because LAU seems to have a moderating effect on the average score but when you eliminate LAU the larger districts seem to drag the average down a bit. "
   ]
  },
  {
   "cell_type": "markdown",
   "metadata": {},
   "source": [
    "### Scatter and Regression Plots Focusing on Schools Under 3500 12th Grade Enrollment"
   ]
  },
  {
   "cell_type": "code",
   "execution_count": 1123,
   "metadata": {},
   "outputs": [
    {
     "data": {
      "image/png": "[encoded data removed]",
      "text/plain": [
       "<Figure size 432x288 with 1 Axes>"
      ]
     },
     "metadata": {
      "needs_background": "light"
     },
     "output_type": "display_data"
    }
   ],
   "source": [
    "sns.scatterplot(data = dist_u3500,\n",
    "                x = dist_u3500['g12_enroll'],\n",
    "                y = dist_u3500['avg_sci'],\n",
    "                color = 'gold').set_title('Enrollment and Avg Science Score for Districts Under 3500 Enrolled', size = 10)\n",
    "plt.xlabel('12th Grade Enrollment')\n",
    "plt.ylabel('Average Science Score');"
   ]
  },
  {
   "cell_type": "markdown",
   "metadata": {},
   "source": [
    "### THIS MAY BE MEANINGFUL:\n",
    "* Districts under 3500 g12 enrollment actually see an increase in scores as enrollment numbers go up. \n",
    "* This is converse to the plot including the larger districts which drags science scores down as g12_enrollment goes up. "
   ]
  },
  {
   "cell_type": "code",
   "execution_count": 1124,
   "metadata": {},
   "outputs": [
    {
     "data": {
      "image/png": "[encoded data removed]",
      "text/plain": [
       "<Figure size 432x288 with 1 Axes>"
      ]
     },
     "metadata": {
      "needs_background": "light"
     },
     "output_type": "display_data"
    }
   ],
   "source": [
    "sns.regplot(data = dist_u3500,\n",
    "            x = dist_u3500['g12_enroll'],\n",
    "            y = dist_u3500['avg_sci'],\n",
    "            color = 'gold').set_title('Enrollment and Avg Science Score for Districts Under 3500 Enrolled', size = 10)\n",
    "\n",
    "plt.xlabel('12th Grade Enrollment')\n",
    "plt.ylabel('Average Science Score');"
   ]
  },
  {
   "cell_type": "code",
   "execution_count": 1125,
   "metadata": {},
   "outputs": [
    {
     "data": {
      "image/png": "[encoded data removed]",
      "text/plain": [
       "<Figure size 432x288 with 1 Axes>"
      ]
     },
     "metadata": {
      "needs_background": "light"
     },
     "output_type": "display_data"
    }
   ],
   "source": [
    "sns.scatterplot(data = dist_u3500,\n",
    "                x = dist_u3500['g12_enroll'],\n",
    "                y = dist_u3500['avg_math'], \n",
    "                color = 'mediumseagreen').set_title('Enrollment and Avg Math Score for Districts Under 3500 Enrolled', size = 10)\n",
    "\n",
    "plt.xlabel('12th Grade Enrollment')\n",
    "plt.ylabel('Average Math Score');"
   ]
  },
  {
   "cell_type": "code",
   "execution_count": 1126,
   "metadata": {},
   "outputs": [
    {
     "data": {
      "image/png": "[encoded data removed]",
      "text/plain": [
       "<Figure size 432x288 with 1 Axes>"
      ]
     },
     "metadata": {
      "needs_background": "light"
     },
     "output_type": "display_data"
    }
   ],
   "source": [
    "sns.regplot(data = dist_u3500,\n",
    "            x = dist_u3500['g12_enroll'],\n",
    "            y = dist_u3500['avg_math'],\n",
    "            color = 'mediumseagreen').set_title('Enrollment and Avg Math Score for Districts Under 3500 Enrolled', size = 10)\n",
    "\n",
    "plt.xlabel('12th Grade Enrollment')\n",
    "plt.ylabel('Average Math Score');"
   ]
  },
  {
   "cell_type": "markdown",
   "metadata": {},
   "source": [
    "## Conclusions and Recommendations\n",
    "\n",
    "When LAU was included in the Averages there seemed to be no relationship between large and small. After LAU was eliminated the largest 6 to 10 districts failed to reach the mean average but somehow the regression line showed up upward relationship with larger districts. It is my theory that districts in the 1000 to 3500 12th grade enrollment range have a higher average score and that once districts exceed that range score tends to decrease. It is also seen in the under 3500 chart that smaller districts are more plentiful but also have a bit a drag on the average score. \n",
    "\n",
    "When you drive down to the school level as does the chart only analyzing LAU does you begin to see a story of small schools driving down the average. So we have two trends, small districts seem to be driving down the score and small schools in large districts seem to be driving down the score. \n",
    "\n",
    "I need to dig more into this but most of the smaller districts come from rural and industrial areas and the small schools in the large districts likely come from impoverished areas in their respective districts. Due the size of the education system at the county and district levels these schools and districts may be being overlooked. \n",
    "\n",
    "Because of this it is recommended that the State of California reconsider it's districting to account for size and special needs of underprivileged or rural schools. "
   ]
  }
 ],
 "metadata": {
  "anaconda-cloud": {},
  "kernelspec": {
   "display_name": "Python 3",
   "language": "python",
   "name": "python3"
  },
  "language_info": {
   "codemirror_mode": {
    "name": "ipython",
    "version": 3
   },
   "file_extension": ".py",
   "mimetype": "text/x-python",
   "name": "python",
   "nbconvert_exporter": "python",
   "pygments_lexer": "ipython3",
   "version": "3.8.3"
  }
 },
 "nbformat": 4,
 "nbformat_minor": 4
}
